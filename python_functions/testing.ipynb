{
 "cells": [
  {
   "cell_type": "code",
   "execution_count": 3,
   "metadata": {},
   "outputs": [
    {
     "name": "stdout",
     "output_type": "stream",
     "text": [
      "Zerodha\n",
      "Fyers\n"
     ]
    }
   ],
   "source": [
    "import django_initializer\n",
    "import ontrack.trading.base\n",
    "from ontrack.trading.base.handler import BaseHandler\n",
    "\n",
    "for cls in BaseHandler.__subclasses__():\n",
    "    print(cls.brokerName)"
   ]
  },
  {
   "cell_type": "code",
   "execution_count": null,
   "metadata": {},
   "outputs": [],
   "source": [
    "# import yfinance as yf\n",
    "\n",
    "# msft = yf.Ticker(\"MAHSEAMLES.NS\")\n",
    "\n",
    "# # get stock info\n",
    "# print(msft.info)\n",
    "\n",
    "# # get historical market data\n",
    "# hist = msft.history(period=\"max\")\n",
    "# print(hist)\n",
    "\n",
    "# # show actions (dividends, splits)\n",
    "# print(msft.actions)\n",
    "\n",
    "# # show dividends\n",
    "# print(msft.dividends)\n",
    "\n",
    "# # show splits\n",
    "# print(msft.splits)\n",
    "\n",
    "# # show financials\n",
    "# print(msft.financials)\n",
    "# print(msft.quarterly_financials)\n",
    "\n",
    "# # show major holders\n",
    "# msft.major_holders\n",
    "\n",
    "# # show institutional holders\n",
    "# msft.institutional_holders\n",
    "\n",
    "# # show balance sheet\n",
    "# msft.balance_sheet\n",
    "# msft.quarterly_balance_sheet\n",
    "\n",
    "# # show cashflow\n",
    "# msft.cashflow\n",
    "# msft.quarterly_cashflow\n",
    "\n",
    "# # show earnings\n",
    "# msft.earnings\n",
    "# msft.quarterly_earnings\n",
    "\n",
    "# # show sustainability\n",
    "# msft.sustainability\n",
    "\n",
    "# # show analysts recommendations\n",
    "# msft.recommendations\n",
    "\n",
    "# # show next event (earnings, etc)\n",
    "# msft.calendar\n",
    "\n",
    "# # show all earnings dates\n",
    "# msft.earnings_dates\n",
    "\n",
    "# # show ISIN code - *experimental*\n",
    "# # ISIN = International Securities Identification Number\n",
    "# msft.isin\n",
    "\n",
    "# # show options expirations\n",
    "# msft.options\n",
    "\n",
    "# # show news\n",
    "# msft.news\n",
    "\n",
    "# # get option chain for specific expiration\n",
    "# #opt = msft.option_chain('YYYY-MM-DD')\n",
    "# # data available via: opt.calls, opt.puts"
   ]
  }
 ],
 "metadata": {
  "kernelspec": {
   "display_name": "Python 3.10.8 ('venv': venv)",
   "language": "python",
   "name": "python3"
  },
  "language_info": {
   "codemirror_mode": {
    "name": "ipython",
    "version": 3
   },
   "file_extension": ".py",
   "mimetype": "text/x-python",
   "name": "python",
   "nbconvert_exporter": "python",
   "pygments_lexer": "ipython3",
   "version": "3.10.8"
  },
  "orig_nbformat": 4,
  "vscode": {
   "interpreter": {
    "hash": "52f058016e79b0cb6f4bc1fb0cbaec4eb0fb60249ee39701686a66fe42631fb8"
   }
  }
 },
 "nbformat": 4,
 "nbformat_minor": 2
}
