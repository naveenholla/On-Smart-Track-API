{
 "cells": [
  {
   "cell_type": "code",
   "execution_count": null,
   "metadata": {},
   "outputs": [],
   "source": [
    "import django_initializer\n",
    "from ontrack.market.api.logic.screener import Screener\n",
    "from ontrack.users.models.lookup import StockScreener\n",
    "from ontrack.utils.base.enum import ExchangeType\n",
    "from ontrack.ta.core import sanitize\n",
    "import pandas as pd\n",
    "\n",
    "path = \"C:\\Sachin\\OST-API\\python_functions\\\\SCREENER_2022-12-12.csv\""
   ]
  },
  {
   "cell_type": "code",
   "execution_count": null,
   "metadata": {},
   "outputs": [],
   "source": [
    "obj = Screener(ExchangeType.NSE)\n",
    "df = obj.stock_screener(1, only_fno=True)\n",
    "df.to_csv(path)"
   ]
  },
  {
   "cell_type": "code",
   "execution_count": null,
   "metadata": {},
   "outputs": [],
   "source": [
    "df = pd.read_csv(path)\n",
    "df.sort_values(by=\"date\", ascending=False, inplace=True)"
   ]
  },
  {
   "cell_type": "code",
   "execution_count": null,
   "metadata": {},
   "outputs": [],
   "source": [
    "df[df[\"symbol\"]==\"boschltd\"]"
   ]
  },
  {
   "cell_type": "code",
   "execution_count": null,
   "metadata": {},
   "outputs": [],
   "source": [
    "df_latest = df.sort_values('date').groupby('symbol').tail(1)\n",
    "df_latest[(df_latest[\"QPT_RATIO_20\"] > 2) | (df_latest[\"DEL_RATIO_20\"] > 2)]"
   ]
  },
  {
   "cell_type": "code",
   "execution_count": null,
   "metadata": {},
   "outputs": [],
   "source": [
    "s = StockScreener.backend.filter(id=1)[0]\n",
    "for section in s.sections.all():\n",
    "    for item in section.items.all():\n",
    "        print(item)\n",
    "    "
   ]
  },
  {
   "cell_type": "code",
   "execution_count": null,
   "metadata": {},
   "outputs": [],
   "source": [
    "df = Screener(ExchangeType.NSE).stock_screener_big_player(only_fno=True)\n",
    "df_last = df.sort_values('date').groupby('symbol').tail(1)\n",
    "df_last[(df_last[\"QPT_RATIO\"] > 2) | (df_last[\"DEL_RATIO\"] > 2) | (abs(df_last[\"OI_RATIO\"]) > 2)]\n",
    "#df[(abs(df[\"CHANGE_OI_RATIO\"]) > 2) & (df[\"lot_size\"] > 0)]\n",
    "\n",
    "#print(connection.queries)\n"
   ]
  },
  {
   "cell_type": "code",
   "execution_count": null,
   "metadata": {},
   "outputs": [],
   "source": [
    "df.sort_values(by=\"date\", ascending=False, inplace=True)\n",
    "df_stock = df[df[\"symbol\"]==\"hindpetro\"]\n",
    "#print(df.columns)\n",
    "df_stock[[\"date\", \"open\", \"high\", \"low\", \"close\", \"p_change\", 'volume', 'qpt', 'p_delivery', 'oi', 'change_oi', 'QPT_RATIO', 'VOL_RATIO', 'DEL_RATIO', 'P_DEL_RATIO', 'OI_RATIO', 'CHANGE_OI_RATIO']]\n"
   ]
  }
 ],
 "metadata": {
  "kernelspec": {
   "display_name": "Python 3.10.8 ('venv': venv)",
   "language": "python",
   "name": "python3"
  },
  "language_info": {
   "codemirror_mode": {
    "name": "ipython",
    "version": 3
   },
   "file_extension": ".py",
   "mimetype": "text/x-python",
   "name": "python",
   "nbconvert_exporter": "python",
   "pygments_lexer": "ipython3",
   "version": "3.10.8"
  },
  "orig_nbformat": 4,
  "vscode": {
   "interpreter": {
    "hash": "52f058016e79b0cb6f4bc1fb0cbaec4eb0fb60249ee39701686a66fe42631fb8"
   }
  }
 },
 "nbformat": 4,
 "nbformat_minor": 2
}
