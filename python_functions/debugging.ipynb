{
 "cells": [
  {
   "cell_type": "code",
   "execution_count": 1,
   "metadata": {},
   "outputs": [],
   "source": [
    "import django_initializer"
   ]
  },
  {
   "cell_type": "code",
   "execution_count": 2,
   "metadata": {},
   "outputs": [],
   "source": [
    "from ontrack.market.api.logic.endofdata import EndOfDayData\n",
    "from ontrack.utils.datetime import DateTimeHelper as dt\n",
    "from ontrack.utils.base.enum import ExchangeType, SettingKeyType\n",
    "from ontrack.ta.utils._levels import get_eod_sr_levels, get_intraday_sr_levels\n",
    "from ontrack.ta.core import sanitize\n",
    "import ontrack.ta as ta\n",
    "from operator import itemgetter\n",
    "from ontrack.utils.numbers import NumberHelper as nh\n",
    "from IPython.display import display, Markdown\n",
    "\n",
    "import pandas as pd\n",
    "import yfinance as yf\n",
    "import matplotlib.dates as mpl_dates\n",
    "\n",
    "def get_stock_price(symbol, period=\"2y\", interval=\"1d\", start_date=None, end_date=None):\n",
    "  df = yf.download(tickers=symbol, interval=interval, period=period, start=start_date, end=end_date)\n",
    "  df['Date'] = pd.to_datetime(df.index)\n",
    "  df['Date'] = df['Date'].apply(mpl_dates.date2num)\n",
    "  df = df.loc[:,['Date', 'Open', 'High', 'Low', 'Close']]\n",
    "  return df"
   ]
  },
  {
   "cell_type": "code",
   "execution_count": 3,
   "metadata": {},
   "outputs": [],
   "source": [
    "import numpy as np\n",
    "from pandas import Timestamp\n",
    "import math\n",
    "from mplfinance.original_flavor import candlestick_ohlc\n",
    "import matplotlib.pyplot as plt"
   ]
  },
  {
   "cell_type": "code",
   "execution_count": 4,
   "metadata": {},
   "outputs": [
    {
     "name": "stdout",
     "output_type": "stream",
     "text": [
      "[*********************100%***********************]  1 of 1 completed\n",
      "[*********************100%***********************]  1 of 1 completed\n",
      "[*********************100%***********************]  1 of 1 completed\n",
      "[*********************100%***********************]  1 of 1 completed\n",
      "[*********************100%***********************]  1 of 1 completed\n"
     ]
    }
   ],
   "source": [
    "#symbol = 'TCS.NS'\n",
    "#symbol = 'IDFCFIRSTB.NS'\n",
    "symbol = '^NSEBANK'\n",
    "#symbol = \"^NSEI\"\n",
    "#symbol = \"MSFT\"\n",
    "df_y = get_stock_price(symbol, \"2y\", \"1d\")\n",
    "df_m = get_stock_price(symbol, \"2y\", \"1mo\")\n",
    "df_w = get_stock_price(symbol, \"2y\", \"1wk\")\n",
    "df_d = get_stock_price(symbol, \"1y\", \"1d\")\n",
    "df_h = get_stock_price(symbol, \"6mo\", \"1h\")\n",
    "\n",
    "df_y = sanitize(df_y)\n",
    "df_m = sanitize(df_m)\n",
    "df_w = sanitize(df_w)\n",
    "df_d = sanitize(df_d)\n",
    "df_h = sanitize(df_h)\n"
   ]
  },
  {
   "cell_type": "code",
   "execution_count": 5,
   "metadata": {},
   "outputs": [
    {
     "name": "stderr",
     "output_type": "stream",
     "text": [
      "DEBUG 2022-11-19 14:35:19,099 logger 6892 4036 [c:\\Sachin\\OST-API\\ontrack\\utils\\config.py.__get_config(16)]: Reading configuration [C:\\Sachin\\OST-API\\config\\app/urlconfig.json].\n"
     ]
    },
    {
     "name": "stdout",
     "output_type": "stream",
     "text": [
      "[X] Ooops!!! It's True, the series 'quantity_per_trade' was not found in date, open, high, low, close, SMA_200, SMA_100, SMA_50, EMA_200, EMA_100, EMA_50, EMA_5, EMA_9, EMA_13, BBL_20_1.5, BBM_20_1.5, BBU_20_1.5, BBB_20_1.5, BBP_20_1.5, CPR_TC, CPR_PIVOT, CPR_BC, CPR_R3, CPR_R2, CPR_R1, CPR_S3, CPR_S2, CPR_S1, CPR, AMATe_LR_8_21_2, AMATe_SR_8_21_2, CDL_CONSOLIDATED\n",
      "[X] Ooops!!! It's True, the series 'volume' was not found in date, open, high, low, close, SMA_200, SMA_100, SMA_50, EMA_200, EMA_100, EMA_50, EMA_5, EMA_9, EMA_13, BBL_20_1.5, BBM_20_1.5, BBU_20_1.5, BBB_20_1.5, BBP_20_1.5, CPR_TC, CPR_PIVOT, CPR_BC, CPR_R3, CPR_R2, CPR_R1, CPR_S3, CPR_S2, CPR_S1, CPR, AMATe_LR_8_21_2, AMATe_SR_8_21_2, CDL_CONSOLIDATED\n",
      "[X] Ooops!!! It's True, the series 'delivery_percentage' was not found in date, open, high, low, close, SMA_200, SMA_100, SMA_50, EMA_200, EMA_100, EMA_50, EMA_5, EMA_9, EMA_13, BBL_20_1.5, BBM_20_1.5, BBU_20_1.5, BBB_20_1.5, BBP_20_1.5, CPR_TC, CPR_PIVOT, CPR_BC, CPR_R3, CPR_R2, CPR_R1, CPR_S3, CPR_S2, CPR_S1, CPR, AMATe_LR_8_21_2, AMATe_SR_8_21_2, CDL_CONSOLIDATED\n",
      "[X] Ooops!!! It's True, the series 'delivery_quantity' was not found in date, open, high, low, close, SMA_200, SMA_100, SMA_50, EMA_200, EMA_100, EMA_50, EMA_5, EMA_9, EMA_13, BBL_20_1.5, BBM_20_1.5, BBU_20_1.5, BBB_20_1.5, BBP_20_1.5, CPR_TC, CPR_PIVOT, CPR_BC, CPR_R3, CPR_R2, CPR_R1, CPR_S3, CPR_S2, CPR_S1, CPR, AMATe_LR_8_21_2, AMATe_SR_8_21_2, CDL_CONSOLIDATED\n"
     ]
    }
   ],
   "source": [
    "obj = EndOfDayData(ExchangeType.NSE)\n",
    "result= obj.populate_indicators(df_y)\n",
    "df = result[0]                \n",
    "last_record = df.ta.second_last_record\n",
    "eod_levels = get_eod_sr_levels(df, [df_m, df_w, df_h])"
   ]
  },
  {
   "cell_type": "code",
   "execution_count": 7,
   "metadata": {},
   "outputs": [],
   "source": [
    "def candle_stick(df):\n",
    "    strategy = ta.Strategy(\n",
    "        name=\"intraday\",\n",
    "        ta=[\n",
    "            {\n",
    "                \"kind\": \"cdl_pattern\",\n",
    "                \"name\": \"all\",\n",
    "                \"consolidated\": True,\n",
    "                \"append\": True,\n",
    "            },\n",
    "            {\"kind\": \"amat\"},            \n",
    "            {\"kind\": \"cpr\"},\n",
    "            {\"kind\": \"ema\", \"length\": 5},\n",
    "            {\"kind\": \"ema\", \"length\": 9},\n",
    "            {\"kind\": \"ema\", \"length\": 13},\n",
    "            {\"kind\": \"bbands\", \"length\": 20, \"std\": 1.5},\n",
    "        ],\n",
    "    )\n",
    "    df.ta.cores = 0\n",
    "    df.ta.sanitize()\n",
    "    df.ta.strategy(strategy)\n",
    "\n",
    "    row = df.ta.second_last_record\n",
    "\n",
    "    cdl_rows = []\n",
    "    cdl_string = row[\"CDL_CONSOLIDATED\"].strip()\n",
    "    value_ = \"\"\n",
    "    if cdl_string:\n",
    "        for cdl in cdl_string.split(\";\"):\n",
    "            cdl_rs = cdl.split(\"|\")\n",
    "            name = cdl_rs[0]\n",
    "            score = nh.str_to_float(cdl_rs[1])\n",
    "            sentiment = \"BULLISH\" if score > 0 else \"BEARISH\"\n",
    "            sentiment_html = f\"<b style='color:#FF0000'>BEARISH</b> {name} {score}\" if score < 0 else f\"<b style='color:#008000'>BULLISH</b>  {name} {score}\"\n",
    "\n",
    "            cdl_row = {}\n",
    "            cdl_row[\"rank\"] = 0\n",
    "            cdl_row[\"name\"] = name\n",
    "            cdl_row[\"sentiment\"] = sentiment\n",
    "            cdl_row[\"score\"] = score\n",
    "            cdl_rows.append(cdl_row)\n",
    "            \n",
    "            value_ = f\"{value_}{sentiment_html}| \"\n",
    "\n",
    "    cdl_rows = sorted(cdl_rows, key=itemgetter(\"rank\"), reverse=False)\n",
    "    return cdl_string, cdl_rows, value_, row\n",
    "\n",
    "def print_result(levels, price):\n",
    "    print(\"--------------------\")\n",
    "    records_below = [x for x in levels if x['is_below']]\n",
    "    records_above = [x for x in levels if not x['is_below']]\n",
    "    record = records_below[-3]\n",
    "    print_value(f\"#### {record['point'] - price}\")\n",
    "    print(f\"Point: {record['point']}, Min: {record['min_point']}, Max: {record['max_point']}\")\n",
    "    print(f\"Types: {set(record['types'])}\")\n",
    "    print(\"--------------------\")\n",
    "    record = records_below[-2]\n",
    "    print_value(f\"#### {record['point'] - price}\")\n",
    "    print(f\"Point: {record['point']}, Min: {record['min_point']}, Max: {record['max_point']}\")\n",
    "    print(f\"Types: {set(record['types'])}\")\n",
    "    print(\"--------------------\")\n",
    "    record = records_below[-1]\n",
    "    print_value(f\"#### {record['point'] - price}\")\n",
    "    print(f\"Point: {record['point']}, Min: {record['min_point']}, Max: {record['max_point']}\")\n",
    "    print(f\"Types: {set(record['types'])}\")\n",
    "    print(\"--------------------\")\n",
    "    display(Markdown(f\"**Current Price: {price}**\"))\n",
    "    print(\"--------------------\")\n",
    "    record = records_above[0]\n",
    "    print_value(f\"#### {record['point'] - price}\")\n",
    "    print(f\"Point: {record['point']}, Min: {record['min_point']}, Max: {record['max_point']}\")\n",
    "    print(f\"Types: {set(record['types'])}\")\n",
    "    print(\"--------------------\")\n",
    "    record = records_above[1]\n",
    "    print_value(f\"#### {record['point'] - price}\")\n",
    "    print(f\"Point: {record['point']}, Min: {record['min_point']}, Max: {record['max_point']}\")\n",
    "    print(f\"Types: {set(record['types'])}\")\n",
    "    print(\"--------------------\")\n",
    "    record = records_above[2]\n",
    "    print_value(f\"#### {record['point'] - price}\")\n",
    "    print(f\"Point: {record['point']}, Min: {record['min_point']}, Max: {record['max_point']}\")\n",
    "    print(f\"Types: {set(record['types'])}\")\n",
    "    print(\"--------------------\")\n",
    "    \n",
    "def print_value(message):\n",
    "    display(Markdown(f\"{message}\"))\n",
    "    \n",
    "def print_cpr_location(price, prev_day):\n",
    "    if price >= prev_day[\"CPR_R3\"]:\n",
    "        print_value(\"<b style='color:#FF0000'>ABOVE R3</b>\")\n",
    "    elif price >= prev_day[\"CPR_R2\"]:\n",
    "        print_value(\"<b style='color:#FF0000'>BETWEEN R2 AND R3</b>\")\n",
    "    elif price >= prev_day[\"CPR_R1\"]:\n",
    "        print_value(\"<span style='color:#ffa07a'>BETWEEN R2 AND R1</span>\")\n",
    "    elif price >= prev_day[\"CPR_TC\"]:\n",
    "        print_value(\"BETWEEN R1 AND TC\")\n",
    "    elif price >= prev_day[\"CPR_PIVOT\"]:    \n",
    "        print_value(\"BETWEEN PIVOT AND TC\")\n",
    "    elif prev_day[\"CPR_BC\"] < price:\n",
    "        print_value(\"BETWEEN PIVOT AND BC\")\n",
    "    elif prev_day[\"CPR_S1\"] < price:\n",
    "        print_value(\"<span style='color:#b2ec5d'>BETWEEN BC AND S1</span>\")\n",
    "    elif prev_day[\"CPR_S2\"] < price:\n",
    "        print_value(\"<b style='color:#b2ec5d'>BETWEEN S2 AND S1</b>\")\n",
    "    elif prev_day[\"CPR_S3\"] < price:\n",
    "        print_value(\"<b style='color:#008000'>BETWEEN S3 AND S2</b>\")\n",
    "    elif prev_day[\"CPR_S3\"] > price:\n",
    "        print_value(\"<b style='color:#008000'>BELOW S3\")\n",
    "        \n",
    "def print_ema_location(price, high, low, ema, ema_name):\n",
    "    if high <= ema:\n",
    "        print_value(f\"<span style='color:#b2ec5d'>Candle below {ema_name}</span>\")\n",
    "    elif low >= ema:\n",
    "       print_value(f\"<span style='color:#ffa07a'>Candle above {ema_name}<span>\")\n",
    "       \n",
    "def print_bbband_location(price, upper, lower):\n",
    "    if price <= lower:\n",
    "        print_value(f\"<span style='color:#b2ec5d'>price below BBAND</span>\")\n",
    "    elif price >= upper:\n",
    "       print_value(f\"<span style='color:#ffa07a'>price above BBAND</span>\")\n",
    "       \n",
    "def print_analysis(df, name):\n",
    "    r = candle_stick(df)\n",
    "    print_value(f'### {name}:')\n",
    "    print_value(f'{r[2]}')\n",
    "    row = r[3]\n",
    "    price = row[\"close\"]\n",
    "    high = row[\"high\"]\n",
    "    low = row[\"low\"]\n",
    "    \n",
    "    print_value(f\"AMAT Long Run: {row['AMATe_LR_8_21_2']}\")\n",
    "    print_value(f\"AMAT Short Run: {row['AMATe_SR_8_21_2']}\")\n",
    "    \n",
    "    ema = row[\"EMA_5\"]\n",
    "    print_ema_location(price, high, low, ema, \"5 EMA\")\n",
    "    \n",
    "    ema = row[\"EMA_9\"]\n",
    "    print_ema_location(price, high, low, ema, \"9 EMA\")\n",
    "    \n",
    "    ema = row[\"EMA_13\"]\n",
    "    print_ema_location(price, high, low, ema, \"13 EMA\")   \n",
    "     \n",
    "    upper = row[\"BBU_20_1.5\"]\n",
    "    lower = row[\"BBL_20_1.5\"]\n",
    "    print_bbband_location(price, upper, lower)\n",
    "        \n"
   ]
  },
  {
   "cell_type": "code",
   "execution_count": 8,
   "metadata": {},
   "outputs": [
    {
     "name": "stdout",
     "output_type": "stream",
     "text": [
      "[*********************100%***********************]  1 of 1 completed\n",
      "[*********************100%***********************]  1 of 1 completed\n",
      "[*********************100%***********************]  1 of 1 completed\n",
      "[*********************100%***********************]  1 of 1 completed\n",
      "[*********************100%***********************]  1 of 1 completed\n"
     ]
    },
    {
     "data": {
      "text/markdown": [
       "## ^NSEBANK"
      ],
      "text/plain": [
       "<IPython.core.display.Markdown object>"
      ]
     },
     "metadata": {},
     "output_type": "display_data"
    },
    {
     "data": {
      "text/markdown": [
       "### 1 day:"
      ],
      "text/plain": [
       "<IPython.core.display.Markdown object>"
      ]
     },
     "metadata": {},
     "output_type": "display_data"
    },
    {
     "data": {
      "text/markdown": [],
      "text/plain": [
       "<IPython.core.display.Markdown object>"
      ]
     },
     "metadata": {},
     "output_type": "display_data"
    },
    {
     "data": {
      "text/markdown": [
       "AMAT Long Run: 1"
      ],
      "text/plain": [
       "<IPython.core.display.Markdown object>"
      ]
     },
     "metadata": {},
     "output_type": "display_data"
    },
    {
     "data": {
      "text/markdown": [
       "AMAT Short Run: 0"
      ],
      "text/plain": [
       "<IPython.core.display.Markdown object>"
      ]
     },
     "metadata": {},
     "output_type": "display_data"
    },
    {
     "data": {
      "text/markdown": [
       "<span style='color:#ffa07a'>Candle above 5 EMA<span>"
      ],
      "text/plain": [
       "<IPython.core.display.Markdown object>"
      ]
     },
     "metadata": {},
     "output_type": "display_data"
    },
    {
     "data": {
      "text/markdown": [
       "<span style='color:#ffa07a'>Candle above 9 EMA<span>"
      ],
      "text/plain": [
       "<IPython.core.display.Markdown object>"
      ]
     },
     "metadata": {},
     "output_type": "display_data"
    },
    {
     "data": {
      "text/markdown": [
       "<span style='color:#ffa07a'>Candle above 13 EMA<span>"
      ],
      "text/plain": [
       "<IPython.core.display.Markdown object>"
      ]
     },
     "metadata": {},
     "output_type": "display_data"
    },
    {
     "data": {
      "text/markdown": [
       "<span style='color:#ffa07a'>price above BBAND</span>"
      ],
      "text/plain": [
       "<IPython.core.display.Markdown object>"
      ]
     },
     "metadata": {},
     "output_type": "display_data"
    },
    {
     "data": {
      "text/markdown": [
       "<span style='color:#b2ec5d'>BETWEEN BC AND S1</span>"
      ],
      "text/plain": [
       "<IPython.core.display.Markdown object>"
      ]
     },
     "metadata": {},
     "output_type": "display_data"
    },
    {
     "data": {
      "text/markdown": [
       "### 1 hour:"
      ],
      "text/plain": [
       "<IPython.core.display.Markdown object>"
      ]
     },
     "metadata": {},
     "output_type": "display_data"
    },
    {
     "data": {
      "text/markdown": [
       "<b style='color:#FF0000'>BEARISH</b> CDL_INSIDE -1.0| <b style='color:#FF0000'>BEARISH</b> CDL_SHORTLINE -100.0| "
      ],
      "text/plain": [
       "<IPython.core.display.Markdown object>"
      ]
     },
     "metadata": {},
     "output_type": "display_data"
    },
    {
     "data": {
      "text/markdown": [
       "AMAT Long Run: 1"
      ],
      "text/plain": [
       "<IPython.core.display.Markdown object>"
      ]
     },
     "metadata": {},
     "output_type": "display_data"
    },
    {
     "data": {
      "text/markdown": [
       "AMAT Short Run: 0"
      ],
      "text/plain": [
       "<IPython.core.display.Markdown object>"
      ]
     },
     "metadata": {},
     "output_type": "display_data"
    },
    {
     "data": {
      "text/markdown": [
       "<span style='color:#ffa07a'>Candle above 5 EMA<span>"
      ],
      "text/plain": [
       "<IPython.core.display.Markdown object>"
      ]
     },
     "metadata": {},
     "output_type": "display_data"
    },
    {
     "data": {
      "text/markdown": [
       "<span style='color:#ffa07a'>Candle above 9 EMA<span>"
      ],
      "text/plain": [
       "<IPython.core.display.Markdown object>"
      ]
     },
     "metadata": {},
     "output_type": "display_data"
    },
    {
     "data": {
      "text/markdown": [
       "<span style='color:#ffa07a'>Candle above 13 EMA<span>"
      ],
      "text/plain": [
       "<IPython.core.display.Markdown object>"
      ]
     },
     "metadata": {},
     "output_type": "display_data"
    },
    {
     "data": {
      "text/markdown": [
       "### 15 minutes:"
      ],
      "text/plain": [
       "<IPython.core.display.Markdown object>"
      ]
     },
     "metadata": {},
     "output_type": "display_data"
    },
    {
     "data": {
      "text/markdown": [
       "<b style='color:#FF0000'>BEARISH</b> CDL_INSIDE -1.0| "
      ],
      "text/plain": [
       "<IPython.core.display.Markdown object>"
      ]
     },
     "metadata": {},
     "output_type": "display_data"
    },
    {
     "data": {
      "text/markdown": [
       "AMAT Long Run: 1"
      ],
      "text/plain": [
       "<IPython.core.display.Markdown object>"
      ]
     },
     "metadata": {},
     "output_type": "display_data"
    },
    {
     "data": {
      "text/markdown": [
       "AMAT Short Run: 0"
      ],
      "text/plain": [
       "<IPython.core.display.Markdown object>"
      ]
     },
     "metadata": {},
     "output_type": "display_data"
    },
    {
     "data": {
      "text/markdown": [
       "<span style='color:#ffa07a'>Candle above 5 EMA<span>"
      ],
      "text/plain": [
       "<IPython.core.display.Markdown object>"
      ]
     },
     "metadata": {},
     "output_type": "display_data"
    },
    {
     "data": {
      "text/markdown": [
       "<span style='color:#ffa07a'>Candle above 9 EMA<span>"
      ],
      "text/plain": [
       "<IPython.core.display.Markdown object>"
      ]
     },
     "metadata": {},
     "output_type": "display_data"
    },
    {
     "data": {
      "text/markdown": [
       "<span style='color:#ffa07a'>Candle above 13 EMA<span>"
      ],
      "text/plain": [
       "<IPython.core.display.Markdown object>"
      ]
     },
     "metadata": {},
     "output_type": "display_data"
    },
    {
     "data": {
      "text/markdown": [
       "<span style='color:#ffa07a'>price above BBAND</span>"
      ],
      "text/plain": [
       "<IPython.core.display.Markdown object>"
      ]
     },
     "metadata": {},
     "output_type": "display_data"
    },
    {
     "data": {
      "text/markdown": [
       "### 5 minutes:"
      ],
      "text/plain": [
       "<IPython.core.display.Markdown object>"
      ]
     },
     "metadata": {},
     "output_type": "display_data"
    },
    {
     "data": {
      "text/markdown": [
       "<b style='color:#008000'>BULLISH</b>  CDL_DOJI_10_0.1 100.0| <b style='color:#FF0000'>BEARISH</b> CDL_HIGHWAVE -100.0| <b style='color:#008000'>BULLISH</b>  CDL_LONGLEGGEDDOJI 100.0| <b style='color:#008000'>BULLISH</b>  CDL_RICKSHAWMAN 100.0| <b style='color:#FF0000'>BEARISH</b> CDL_SPINNINGTOP -100.0| "
      ],
      "text/plain": [
       "<IPython.core.display.Markdown object>"
      ]
     },
     "metadata": {},
     "output_type": "display_data"
    },
    {
     "data": {
      "text/markdown": [
       "AMAT Long Run: 1"
      ],
      "text/plain": [
       "<IPython.core.display.Markdown object>"
      ]
     },
     "metadata": {},
     "output_type": "display_data"
    },
    {
     "data": {
      "text/markdown": [
       "AMAT Short Run: 0"
      ],
      "text/plain": [
       "<IPython.core.display.Markdown object>"
      ]
     },
     "metadata": {},
     "output_type": "display_data"
    },
    {
     "data": {
      "text/markdown": [
       "<span style='color:#ffa07a'>Candle above 9 EMA<span>"
      ],
      "text/plain": [
       "<IPython.core.display.Markdown object>"
      ]
     },
     "metadata": {},
     "output_type": "display_data"
    },
    {
     "data": {
      "text/markdown": [
       "<span style='color:#ffa07a'>Candle above 13 EMA<span>"
      ],
      "text/plain": [
       "<IPython.core.display.Markdown object>"
      ]
     },
     "metadata": {},
     "output_type": "display_data"
    },
    {
     "data": {
      "text/markdown": [
       "### 1 minute:"
      ],
      "text/plain": [
       "<IPython.core.display.Markdown object>"
      ]
     },
     "metadata": {},
     "output_type": "display_data"
    },
    {
     "data": {
      "text/markdown": [
       "<b style='color:#FF0000'>BEARISH</b> CDL_BELTHOLD -100.0| <b style='color:#FF0000'>BEARISH</b> CDL_SEPARATINGLINES -100.0| "
      ],
      "text/plain": [
       "<IPython.core.display.Markdown object>"
      ]
     },
     "metadata": {},
     "output_type": "display_data"
    },
    {
     "data": {
      "text/markdown": [
       "AMAT Long Run: 0"
      ],
      "text/plain": [
       "<IPython.core.display.Markdown object>"
      ]
     },
     "metadata": {},
     "output_type": "display_data"
    },
    {
     "data": {
      "text/markdown": [
       "AMAT Short Run: 1"
      ],
      "text/plain": [
       "<IPython.core.display.Markdown object>"
      ]
     },
     "metadata": {},
     "output_type": "display_data"
    },
    {
     "name": "stdout",
     "output_type": "stream",
     "text": [
      "--------------------\n"
     ]
    },
    {
     "data": {
      "text/markdown": [
       "#### -66.24921875000291"
      ],
      "text/plain": [
       "<IPython.core.display.Markdown object>"
      ]
     },
     "metadata": {},
     "output_type": "display_data"
    },
    {
     "name": "stdout",
     "output_type": "stream",
     "text": [
      "Point: 42371.2, Min: 42345.15, Max: 42371.2\n",
      "Types: {'SR_WSM', 'SR_FCP', 'P_D_L', 'P_W_H'}\n",
      "--------------------\n"
     ]
    },
    {
     "data": {
      "text/markdown": [
       "#### -14.849218750001455"
      ],
      "text/plain": [
       "<IPython.core.display.Markdown object>"
      ]
     },
     "metadata": {},
     "output_type": "display_data"
    },
    {
     "name": "stdout",
     "output_type": "stream",
     "text": [
      "Point: 42422.6, Min: 42384.95, Max: 42422.6\n",
      "Types: {'CPR_PIVOT', 'SR_FCP', 'P_D_O', 'SR_WSM', 'CPR_BC'}\n",
      "--------------------\n"
     ]
    },
    {
     "data": {
      "text/markdown": [
       "#### -12.69921875"
      ],
      "text/plain": [
       "<IPython.core.display.Markdown object>"
      ]
     },
     "metadata": {},
     "output_type": "display_data"
    },
    {
     "name": "stdout",
     "output_type": "stream",
     "text": [
      "Point: 42424.75, Min: 42424.75, Max: 42458.0\n",
      "Types: {'C_M_C', 'C_D_C', 'CPR_TC', 'P_D_C', 'C_W_C', 'SR_FCP', 'SR_WSM'}\n",
      "--------------------\n"
     ]
    },
    {
     "data": {
      "text/markdown": [
       "**Current Price: 42437.44921875**"
      ],
      "text/plain": [
       "<IPython.core.display.Markdown object>"
      ]
     },
     "metadata": {},
     "output_type": "display_data"
    },
    {
     "name": "stdout",
     "output_type": "stream",
     "text": [
      "--------------------\n"
     ]
    },
    {
     "data": {
      "text/markdown": [
       "#### 39.150781249998545"
      ],
      "text/plain": [
       "<IPython.core.display.Markdown object>"
      ]
     },
     "metadata": {},
     "output_type": "display_data"
    },
    {
     "name": "stdout",
     "output_type": "stream",
     "text": [
      "Point: 42476.6, Min: 42476.6, Max: 42493.75\n",
      "Types: {'SR_WSM', 'SR_FCP'}\n",
      "--------------------\n"
     ]
    },
    {
     "data": {
      "text/markdown": [
       "#### 86.25078124999709"
      ],
      "text/plain": [
       "<IPython.core.display.Markdown object>"
      ]
     },
     "metadata": {},
     "output_type": "display_data"
    },
    {
     "name": "stdout",
     "output_type": "stream",
     "text": [
      "Point: 42523.7, Min: 42523.7, Max: 42557.05\n",
      "Types: {'SR_WSM', 'SR_FCP', 'C_D_O', 'ATC'}\n",
      "--------------------\n"
     ]
    },
    {
     "data": {
      "text/markdown": [
       "#### 129.80078125"
      ],
      "text/plain": [
       "<IPython.core.display.Markdown object>"
      ]
     },
     "metadata": {},
     "output_type": "display_data"
    },
    {
     "name": "stdout",
     "output_type": "stream",
     "text": [
      "Point: 42567.25, Min: 42567.25, Max: 42605.5\n",
      "Types: {'SR_WSM', 'SR_FCP', 'C_D_H'}\n",
      "--------------------\n"
     ]
    }
   ],
   "source": [
    "df_d = get_stock_price(symbol, \"25d\", \"1d\")\n",
    "df_h = get_stock_price(symbol, \"5d\", \"1h\")\n",
    "df_15m = get_stock_price(symbol, \"3d\", \"15m\")\n",
    "df_5m = get_stock_price(symbol, \"2d\", \"5m\")\n",
    "df_1m = get_stock_price(symbol, \"1d\", \"1m\")\n",
    "\n",
    "df_d = sanitize(df_d)\n",
    "df_h = sanitize(df_h)\n",
    "df_15m = sanitize(df_15m)\n",
    "df_5m = sanitize(df_5m)\n",
    "df_1m = sanitize(df_1m)\n",
    "\n",
    "price = df_15m.iloc[-1][\"close\"]\n",
    "\n",
    "print_value(f\"## {symbol}\")\n",
    "print_analysis(df_d, \"1 day\")\n",
    "print_cpr_location(price, last_record)\n",
    "print_analysis(df_h, \"1 hour\")\n",
    "print_analysis(df_15m, \"15 minutes\")\n",
    "print_analysis(df_5m, \"5 minutes\")\n",
    "print_analysis(df_1m, \"1 minute\")\n",
    "\n",
    "\n",
    "levels = get_intraday_sr_levels(eod_levels, df_d, [df_5m, df_15m], price)\n",
    "print_result(levels, price)\n"
   ]
  }
 ],
 "metadata": {
  "kernelspec": {
   "display_name": "Python 3.10.8 ('venv': venv)",
   "language": "python",
   "name": "python3"
  },
  "language_info": {
   "codemirror_mode": {
    "name": "ipython",
    "version": 3
   },
   "file_extension": ".py",
   "mimetype": "text/x-python",
   "name": "python",
   "nbconvert_exporter": "python",
   "pygments_lexer": "ipython3",
   "version": "3.10.8"
  },
  "orig_nbformat": 4,
  "vscode": {
   "interpreter": {
    "hash": "52f058016e79b0cb6f4bc1fb0cbaec4eb0fb60249ee39701686a66fe42631fb8"
   }
  }
 },
 "nbformat": 4,
 "nbformat_minor": 2
}
