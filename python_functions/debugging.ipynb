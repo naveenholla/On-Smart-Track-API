{
 "cells": [
  {
   "cell_type": "code",
   "execution_count": 1,
   "metadata": {},
   "outputs": [],
   "source": [
    "import django_initializer"
   ]
  },
  {
   "cell_type": "code",
   "execution_count": 2,
   "metadata": {},
   "outputs": [],
   "source": [
    "from ontrack.market.api.logic.endofdata import EndOfDayData\n",
    "from ontrack.market.api.logic.screener import Screener\n",
    "from ontrack.utils.datetime import DateTimeHelper as dt\n",
    "from ontrack.utils.base.enum import ExchangeType, SettingKeyType\n",
    "from ontrack.ta.utils._levels import get_eod_sr_levels, get_intraday_sr_levels\n",
    "from ontrack.ta.core import sanitize\n",
    "import ontrack.ta as ta\n",
    "from operator import itemgetter\n",
    "from ontrack.utils.numbers import NumberHelper as nh\n",
    "from IPython.display import display, Markdown\n",
    "\n",
    "import pandas as pd\n",
    "import yfinance as yf\n",
    "import matplotlib.dates as mpl_dates"
   ]
  },
  {
   "cell_type": "code",
   "execution_count": 3,
   "metadata": {},
   "outputs": [],
   "source": [
    "import numpy as np\n",
    "from pandas import Timestamp\n",
    "import math\n",
    "from mplfinance.original_flavor import candlestick_ohlc\n",
    "import matplotlib.pyplot as plt"
   ]
  },
  {
   "cell_type": "code",
   "execution_count": 4,
   "metadata": {},
   "outputs": [],
   "source": [
    "def get_stock_price(symbol, period=\"2y\", interval=\"1d\", start_date=None, end_date=None):\n",
    "  df = yf.download(tickers=symbol, interval=interval, period=period, start=start_date, end=end_date)\n",
    "  df['Date'] = pd.to_datetime(df.index)\n",
    "#   df = df.set_index('Date')\n",
    "#   df['Date'] = df['Date'].apply(mpl_dates.date2num)\n",
    "  df = df.loc[:,['Date', 'Open', 'High', 'Low', 'Close', \"Adj Close\", \"Volume\"]]\n",
    "  return df\n",
    "\n",
    "def candle_stick(df):\n",
    "    strategy = ta.Strategy(\n",
    "        name=\"intraday\",\n",
    "        ta=[\n",
    "            {\n",
    "                \"kind\": \"cdl_pattern\",\n",
    "                \"name\": \"all\",\n",
    "                \"consolidated\": True,\n",
    "                \"append\": True,\n",
    "            },\n",
    "            {\"kind\": \"amat\"},            \n",
    "            {\"kind\": \"cpr\"},\n",
    "            {\"kind\": \"ema\", \"length\": 5},\n",
    "            {\"kind\": \"ema\", \"length\": 9},\n",
    "            {\"kind\": \"ema\", \"length\": 13},\n",
    "            {\"kind\": \"bbands\", \"length\": 20, \"std\": 1.5},\n",
    "        ],\n",
    "    )\n",
    "    df.ta.cores = 0\n",
    "    df.ta.sanitize()\n",
    "    df.ta.strategy(strategy)\n",
    "\n",
    "    row = df.ta.second_last_record\n",
    "\n",
    "    cdl_rows = []\n",
    "    cdl_string = row[\"CDL_CONSOLIDATED\"].strip()\n",
    "    value_ = \"\"\n",
    "    if cdl_string:\n",
    "        for cdl in cdl_string.split(\";\"):\n",
    "            cdl_rs = cdl.split(\"|\")\n",
    "            name = cdl_rs[0]\n",
    "            score = nh.str_to_float(cdl_rs[1])\n",
    "            sentiment = \"BULLISH\" if score > 0 else \"BEARISH\"\n",
    "            sentiment_html = f\"<b style='color:#FF0000'>BEARISH</b> {name} {score}\" if score < 0 else f\"<b style='color:#008000'>BULLISH</b>  {name} {score}\"\n",
    "\n",
    "            cdl_row = {}\n",
    "            cdl_row[\"rank\"] = 0\n",
    "            cdl_row[\"name\"] = name\n",
    "            cdl_row[\"sentiment\"] = sentiment\n",
    "            cdl_row[\"score\"] = score\n",
    "            cdl_rows.append(cdl_row)\n",
    "            \n",
    "            value_ = f\"{value_}{sentiment_html}| \"\n",
    "\n",
    "    cdl_rows = sorted(cdl_rows, key=itemgetter(\"rank\"), reverse=False)\n",
    "    return cdl_string, cdl_rows, value_, row\n",
    "\n",
    "def print_levels_data(record, price):\n",
    "    print_value(f\"#### {record['point'] - price}\")\n",
    "    print(f\"Point: {record['point']}, Min: {record['min_point']}, Max: {record['max_point']}\")\n",
    "    print(f\"Types: {set(record['types'])}\")\n",
    "    print(\"--------------------\")\n",
    "\n",
    "def print_result(levels, price):\n",
    "    print(\"--------------------\")\n",
    "    price_printed = False\n",
    "    \n",
    "    for record in levels:\n",
    "        if not record['is_below'] and not price_printed:\n",
    "            display(Markdown(f\"**Current Price: {price}**\"))\n",
    "            price_printed = True\n",
    "            \n",
    "        print_levels_data(record, price)\n",
    "    \n",
    "def print_value(message):\n",
    "    display(Markdown(f\"{message}\"))\n",
    "    \n",
    "def print_cpr_location(price, prev_day):\n",
    "    if price >= prev_day[\"CPR_R3\"]:\n",
    "        print_value(\"<b style='color:#FF0000'>ABOVE R3</b>\")\n",
    "    elif price >= prev_day[\"CPR_R2\"]:\n",
    "        print_value(\"<b style='color:#FF0000'>BETWEEN R2 AND R3</b>\")\n",
    "    elif price >= prev_day[\"CPR_R1\"]:\n",
    "        print_value(\"<span style='color:#ffa07a'>BETWEEN R2 AND R1</span>\")\n",
    "    elif price >= prev_day[\"CPR_TC\"]:\n",
    "        print_value(\"BETWEEN R1 AND TC\")\n",
    "    elif price >= prev_day[\"CPR_PIVOT\"]:    \n",
    "        print_value(\"BETWEEN PIVOT AND TC\")\n",
    "    elif prev_day[\"CPR_BC\"] < price:\n",
    "        print_value(\"BETWEEN PIVOT AND BC\")\n",
    "    elif prev_day[\"CPR_S1\"] < price:\n",
    "        print_value(\"<span style='color:#b2ec5d'>BETWEEN BC AND S1</span>\")\n",
    "    elif prev_day[\"CPR_S2\"] < price:\n",
    "        print_value(\"<b style='color:#b2ec5d'>BETWEEN S2 AND S1</b>\")\n",
    "    elif prev_day[\"CPR_S3\"] < price:\n",
    "        print_value(\"<b style='color:#008000'>BETWEEN S3 AND S2</b>\")\n",
    "    elif prev_day[\"CPR_S3\"] > price:\n",
    "        print_value(\"<b style='color:#008000'>BELOW S3\")\n",
    "        \n",
    "def print_ema_location(price, high, low, ema, ema_name):\n",
    "    if high <= ema:\n",
    "        print_value(f\"<span style='color:#b2ec5d'>Candle below {ema_name}</span>\")\n",
    "    elif low >= ema:\n",
    "       print_value(f\"<span style='color:#ffa07a'>Candle above {ema_name}<span>\")\n",
    "       \n",
    "def print_bbband_location(price, upper, lower):\n",
    "    if price <= lower:\n",
    "        print_value(f\"<span style='color:#b2ec5d'>price below BBAND</span>\")\n",
    "    elif price >= upper:\n",
    "       print_value(f\"<span style='color:#ffa07a'>price above BBAND</span>\")\n",
    "       \n",
    "def print_analysis(df, name):\n",
    "    r = candle_stick(df)\n",
    "    print_value(f'### {name}:')\n",
    "    print_value(f'{r[2]}')\n",
    "    row = r[3]\n",
    "    price = row[\"close\"]\n",
    "    high = row[\"high\"]\n",
    "    low = row[\"low\"]\n",
    "    \n",
    "    print_value(f\"AMAT Long Run: {row['AMATe_LR_8_21_2']}\")\n",
    "    print_value(f\"AMAT Short Run: {row['AMATe_SR_8_21_2']}\")\n",
    "    \n",
    "    ema = row[\"EMA_5\"]\n",
    "    print_ema_location(price, high, low, ema, \"5 EMA\")\n",
    "    \n",
    "    ema = row[\"EMA_9\"]\n",
    "    print_ema_location(price, high, low, ema, \"9 EMA\")\n",
    "    \n",
    "    ema = row[\"EMA_13\"]\n",
    "    print_ema_location(price, high, low, ema, \"13 EMA\")   \n",
    "     \n",
    "    upper = row[\"BBU_20_1.5\"]\n",
    "    lower = row[\"BBL_20_1.5\"]\n",
    "    print_bbband_location(price, upper, lower)\n",
    "        \n"
   ]
  },
  {
   "cell_type": "code",
   "execution_count": 5,
   "metadata": {},
   "outputs": [
    {
     "name": "stdout",
     "output_type": "stream",
     "text": [
      "[*********************100%***********************]  1 of 1 completed\n",
      "[*********************100%***********************]  1 of 1 completed\n",
      "[*********************100%***********************]  1 of 1 completed\n",
      "[*********************100%***********************]  1 of 1 completed\n",
      "[*********************100%***********************]  1 of 1 completed\n",
      "                 date         open         high          low        close  \\\n",
      "date                                                                        \n",
      "2022-10-03 2022-10-03  2995.000000  3124.000000  2974.000000  3064.899902   \n",
      "2022-10-10 2022-10-10  3010.000000  3150.000000  3005.000000  3099.149902   \n",
      "2022-10-17 2022-10-17  3072.649902  3160.399902  3071.449951  3137.399902   \n",
      "2022-10-24 2022-10-24  3170.100098  3184.250000  3134.350098  3163.250000   \n",
      "2022-10-31 2022-10-31  3199.000000  3270.000000  3166.149902  3217.399902   \n",
      "2022-11-07 2022-11-07  3229.000000  3341.600098  3170.000000  3315.949951   \n",
      "2022-11-14 2022-11-14  3324.000000  3367.899902  3292.000000  3343.449951   \n",
      "2022-11-21 2022-11-21  3322.500000  3403.350098  3255.250000  3389.649902   \n",
      "2022-11-28 2022-11-28  3366.000000  3429.000000  3365.550049  3397.350098   \n",
      "2022-12-02 2022-12-02  3458.100098  3468.899902  3413.000000  3425.449951   \n",
      "\n",
      "              adj_close      volume  \n",
      "date                                 \n",
      "2022-10-03  3056.988281   7639901.0  \n",
      "2022-10-10  3091.149902  13760713.0  \n",
      "2022-10-17  3129.301270   7114530.0  \n",
      "2022-10-24  3163.250000   6124752.0  \n",
      "2022-10-31  3217.399902   9203094.0  \n",
      "2022-11-07  3315.949951   7475251.0  \n",
      "2022-11-14  3343.449951   7073543.0  \n",
      "2022-11-21  3389.649902   6489516.0  \n",
      "2022-11-28  3397.350098   3771465.0  \n",
      "2022-12-02  3425.449951   1710196.0  \n",
      "                 date         open         high          low        close\n",
      "date                                                                     \n",
      "2022-10-02 2022-09-30  2959.850098  3055.850098  2926.100098  3004.550049\n",
      "2022-10-09 2022-10-07  2995.000000  3124.000000  2974.000000  3064.899902\n",
      "2022-10-16 2022-10-14  3010.000000  3150.000000  3005.000000  3099.149902\n",
      "2022-10-23 2022-10-21  3072.649902  3160.399902  3071.449951  3137.399902\n",
      "2022-10-30 2022-10-28  3170.100098  3184.250000  3134.350098  3163.250000\n",
      "2022-11-06 2022-11-04  3199.000000  3270.000000  3166.149902  3217.399902\n",
      "2022-11-13 2022-11-11  3229.000000  3341.600098  3170.000000  3315.949951\n",
      "2022-11-20 2022-11-18  3324.000000  3367.899902  3292.000000  3343.449951\n",
      "2022-11-27 2022-11-25  3322.500000  3403.350098  3255.250000  3389.649902\n",
      "2022-12-04 2022-12-02  3366.000000  3468.899902  3365.550049  3425.350098\n"
     ]
    }
   ],
   "source": [
    "\n",
    "symbol = 'TCS.NS'\n",
    "#symbol = 'IDFCFIRSTB.NS'\n",
    "#symbol = '^NSEBANK'\n",
    "#symbol = \"^NSEI\"\n",
    "#symbol = \"MSFT\"\n",
    "df_y = get_stock_price(symbol, \"2y\", \"1d\")\n",
    "df_m = get_stock_price(symbol, \"2y\", \"1mo\")\n",
    "df_w = get_stock_price(symbol, \"2y\", \"1wk\")\n",
    "df_d = get_stock_price(symbol, \"1y\", \"1d\")\n",
    "df_h = get_stock_price(symbol, \"6mo\", \"1h\")\n",
    "\n",
    "df_y = sanitize(df_y)\n",
    "df_m = sanitize(df_m)\n",
    "df_w = sanitize(df_w)\n",
    "df_d = sanitize(df_d)\n",
    "df_h = sanitize(df_h)\n",
    "\n",
    "print(df_w.tail(10))\n",
    "df_values = df_y.resample(\"W\").agg(\n",
    "        {\"date\": \"max\", \"open\": \"first\", \"high\": \"max\", \"low\": \"min\", \"close\": \"last\"}\n",
    "    )\n",
    "print(df_values.tail(10))\n"
   ]
  },
  {
   "cell_type": "code",
   "execution_count": 6,
   "metadata": {},
   "outputs": [
    {
     "name": "stderr",
     "output_type": "stream",
     "text": [
      "DEBUG 2022-12-02 13:26:21,972 logger 6832 3444 [c:\\Sachin\\OST-API\\ontrack\\utils\\config.py.__get_config(16)]: Reading configuration [C:\\Sachin\\OST-API\\config\\app/urlconfig.json].\n"
     ]
    }
   ],
   "source": [
    "obj = Screener(ExchangeType.NSE)\n",
    "result= obj.populate_indicators(df_y)\n",
    "df = result[0]                \n",
    "last_record = df.ta.second_last_record\n",
    "eod_levels = get_eod_sr_levels(df, [df_m, df_w, df_h])"
   ]
  },
  {
   "cell_type": "code",
   "execution_count": 7,
   "metadata": {},
   "outputs": [
    {
     "name": "stdout",
     "output_type": "stream",
     "text": [
      "[*********************100%***********************]  1 of 1 completed\n",
      "[*********************100%***********************]  1 of 1 completed\n",
      "[*********************100%***********************]  1 of 1 completed\n",
      "[*********************100%***********************]  1 of 1 completed\n",
      "[*********************100%***********************]  1 of 1 completed\n"
     ]
    },
    {
     "data": {
      "text/markdown": [
       "## NARROW CPR"
      ],
      "text/plain": [
       "<IPython.core.display.Markdown object>"
      ]
     },
     "metadata": {},
     "output_type": "display_data"
    },
    {
     "data": {
      "text/markdown": [
       "<b style='color:#ffa07a'>Only Bearish in morning</b>"
      ],
      "text/plain": [
       "<IPython.core.display.Markdown object>"
      ]
     },
     "metadata": {},
     "output_type": "display_data"
    },
    {
     "data": {
      "text/markdown": [
       "## TCS.NS"
      ],
      "text/plain": [
       "<IPython.core.display.Markdown object>"
      ]
     },
     "metadata": {},
     "output_type": "display_data"
    },
    {
     "data": {
      "text/markdown": [
       "### 1 day:"
      ],
      "text/plain": [
       "<IPython.core.display.Markdown object>"
      ]
     },
     "metadata": {},
     "output_type": "display_data"
    },
    {
     "data": {
      "text/markdown": [],
      "text/plain": [
       "<IPython.core.display.Markdown object>"
      ]
     },
     "metadata": {},
     "output_type": "display_data"
    },
    {
     "data": {
      "text/markdown": [
       "AMAT Long Run: 0"
      ],
      "text/plain": [
       "<IPython.core.display.Markdown object>"
      ]
     },
     "metadata": {},
     "output_type": "display_data"
    },
    {
     "data": {
      "text/markdown": [
       "AMAT Short Run: 0"
      ],
      "text/plain": [
       "<IPython.core.display.Markdown object>"
      ]
     },
     "metadata": {},
     "output_type": "display_data"
    },
    {
     "data": {
      "text/markdown": [
       "<span style='color:#ffa07a'>Candle above 5 EMA<span>"
      ],
      "text/plain": [
       "<IPython.core.display.Markdown object>"
      ]
     },
     "metadata": {},
     "output_type": "display_data"
    },
    {
     "data": {
      "text/markdown": [
       "<span style='color:#ffa07a'>Candle above 9 EMA<span>"
      ],
      "text/plain": [
       "<IPython.core.display.Markdown object>"
      ]
     },
     "metadata": {},
     "output_type": "display_data"
    },
    {
     "data": {
      "text/markdown": [
       "<span style='color:#ffa07a'>Candle above 13 EMA<span>"
      ],
      "text/plain": [
       "<IPython.core.display.Markdown object>"
      ]
     },
     "metadata": {},
     "output_type": "display_data"
    },
    {
     "data": {
      "text/markdown": [
       "<span style='color:#ffa07a'>BETWEEN R2 AND R1</span>"
      ],
      "text/plain": [
       "<IPython.core.display.Markdown object>"
      ]
     },
     "metadata": {},
     "output_type": "display_data"
    },
    {
     "data": {
      "text/markdown": [
       "### 1 hour:"
      ],
      "text/plain": [
       "<IPython.core.display.Markdown object>"
      ]
     },
     "metadata": {},
     "output_type": "display_data"
    },
    {
     "data": {
      "text/markdown": [
       "<b style='color:#FF0000'>BEARISH</b> CDL_HANGINGMAN -100.0| <b style='color:#FF0000'>BEARISH</b> CDL_INSIDE -1.0| <b style='color:#FF0000'>BEARISH</b> CDL_SHORTLINE -100.0| "
      ],
      "text/plain": [
       "<IPython.core.display.Markdown object>"
      ]
     },
     "metadata": {},
     "output_type": "display_data"
    },
    {
     "data": {
      "text/markdown": [
       "AMAT Long Run: 0"
      ],
      "text/plain": [
       "<IPython.core.display.Markdown object>"
      ]
     },
     "metadata": {},
     "output_type": "display_data"
    },
    {
     "data": {
      "text/markdown": [
       "AMAT Short Run: 1"
      ],
      "text/plain": [
       "<IPython.core.display.Markdown object>"
      ]
     },
     "metadata": {},
     "output_type": "display_data"
    },
    {
     "data": {
      "text/markdown": [
       "<span style='color:#b2ec5d'>Candle below 5 EMA</span>"
      ],
      "text/plain": [
       "<IPython.core.display.Markdown object>"
      ]
     },
     "metadata": {},
     "output_type": "display_data"
    },
    {
     "data": {
      "text/markdown": [
       "<span style='color:#b2ec5d'>Candle below 9 EMA</span>"
      ],
      "text/plain": [
       "<IPython.core.display.Markdown object>"
      ]
     },
     "metadata": {},
     "output_type": "display_data"
    },
    {
     "data": {
      "text/markdown": [
       "<span style='color:#b2ec5d'>Candle below 13 EMA</span>"
      ],
      "text/plain": [
       "<IPython.core.display.Markdown object>"
      ]
     },
     "metadata": {},
     "output_type": "display_data"
    },
    {
     "data": {
      "text/markdown": [
       "### 15 minutes:"
      ],
      "text/plain": [
       "<IPython.core.display.Markdown object>"
      ]
     },
     "metadata": {},
     "output_type": "display_data"
    },
    {
     "data": {
      "text/markdown": [
       "<b style='color:#FF0000'>BEARISH</b> CDL_INSIDE -1.0| "
      ],
      "text/plain": [
       "<IPython.core.display.Markdown object>"
      ]
     },
     "metadata": {},
     "output_type": "display_data"
    },
    {
     "data": {
      "text/markdown": [
       "AMAT Long Run: 1"
      ],
      "text/plain": [
       "<IPython.core.display.Markdown object>"
      ]
     },
     "metadata": {},
     "output_type": "display_data"
    },
    {
     "data": {
      "text/markdown": [
       "AMAT Short Run: 0"
      ],
      "text/plain": [
       "<IPython.core.display.Markdown object>"
      ]
     },
     "metadata": {},
     "output_type": "display_data"
    },
    {
     "data": {
      "text/markdown": [
       "### 5 minutes:"
      ],
      "text/plain": [
       "<IPython.core.display.Markdown object>"
      ]
     },
     "metadata": {},
     "output_type": "display_data"
    },
    {
     "data": {
      "text/markdown": [
       "<b style='color:#FF0000'>BEARISH</b> CDL_INSIDE -1.0| <b style='color:#FF0000'>BEARISH</b> CDL_SHORTLINE -100.0| "
      ],
      "text/plain": [
       "<IPython.core.display.Markdown object>"
      ]
     },
     "metadata": {},
     "output_type": "display_data"
    },
    {
     "data": {
      "text/markdown": [
       "AMAT Long Run: 1"
      ],
      "text/plain": [
       "<IPython.core.display.Markdown object>"
      ]
     },
     "metadata": {},
     "output_type": "display_data"
    },
    {
     "data": {
      "text/markdown": [
       "AMAT Short Run: 0"
      ],
      "text/plain": [
       "<IPython.core.display.Markdown object>"
      ]
     },
     "metadata": {},
     "output_type": "display_data"
    },
    {
     "data": {
      "text/markdown": [
       "<span style='color:#ffa07a'>Candle above 9 EMA<span>"
      ],
      "text/plain": [
       "<IPython.core.display.Markdown object>"
      ]
     },
     "metadata": {},
     "output_type": "display_data"
    },
    {
     "data": {
      "text/markdown": [
       "<span style='color:#ffa07a'>Candle above 13 EMA<span>"
      ],
      "text/plain": [
       "<IPython.core.display.Markdown object>"
      ]
     },
     "metadata": {},
     "output_type": "display_data"
    },
    {
     "data": {
      "text/markdown": [
       "### 1 minute:"
      ],
      "text/plain": [
       "<IPython.core.display.Markdown object>"
      ]
     },
     "metadata": {},
     "output_type": "display_data"
    },
    {
     "data": {
      "text/markdown": [
       "<b style='color:#FF0000'>BEARISH</b> CDL_BELTHOLD -100.0| "
      ],
      "text/plain": [
       "<IPython.core.display.Markdown object>"
      ]
     },
     "metadata": {},
     "output_type": "display_data"
    },
    {
     "data": {
      "text/markdown": [
       "AMAT Long Run: 0"
      ],
      "text/plain": [
       "<IPython.core.display.Markdown object>"
      ]
     },
     "metadata": {},
     "output_type": "display_data"
    },
    {
     "data": {
      "text/markdown": [
       "AMAT Short Run: 1"
      ],
      "text/plain": [
       "<IPython.core.display.Markdown object>"
      ]
     },
     "metadata": {},
     "output_type": "display_data"
    },
    {
     "name": "stdout",
     "output_type": "stream",
     "text": [
      "--------------------\n"
     ]
    },
    {
     "data": {
      "text/markdown": [
       "#### -54.05009765624982"
      ],
      "text/plain": [
       "<IPython.core.display.Markdown object>"
      ]
     },
     "metadata": {},
     "output_type": "display_data"
    },
    {
     "name": "stdout",
     "output_type": "stream",
     "text": [
      "Point: 3371.3, Min: 3367.8, Max: 3371.3\n",
      "Types: {'SR_WSM', 'SR_FCP'}\n",
      "--------------------\n"
     ]
    },
    {
     "data": {
      "text/markdown": [
       "#### -46.30009765624982"
      ],
      "text/plain": [
       "<IPython.core.display.Markdown object>"
      ]
     },
     "metadata": {},
     "output_type": "display_data"
    },
    {
     "name": "stdout",
     "output_type": "stream",
     "text": [
      "Point: 3379.05, Min: 3375.0, Max: 3379.05\n",
      "Types: {'SR_WSM', 'SR_FCP'}\n",
      "--------------------\n"
     ]
    },
    {
     "data": {
      "text/markdown": [
       "#### -42.35009765625"
      ],
      "text/plain": [
       "<IPython.core.display.Markdown object>"
      ]
     },
     "metadata": {},
     "output_type": "display_data"
    },
    {
     "name": "stdout",
     "output_type": "stream",
     "text": [
      "Point: 3383.0, Min: 3379.85, Max: 3383.0\n",
      "Types: {'SR_WSM', 'CPR_S2', 'P_D_L', 'P_D_O'}\n",
      "--------------------\n"
     ]
    },
    {
     "data": {
      "text/markdown": [
       "#### -35.35009765625"
      ],
      "text/plain": [
       "<IPython.core.display.Markdown object>"
      ]
     },
     "metadata": {},
     "output_type": "display_data"
    },
    {
     "name": "stdout",
     "output_type": "stream",
     "text": [
      "Point: 3390.0, Min: 3385.95, Max: 3390.0\n",
      "Types: {'SR_WSM', 'P_W_C', 'SR_FCP'}\n",
      "--------------------\n"
     ]
    },
    {
     "data": {
      "text/markdown": [
       "#### -32.50009765625009"
      ],
      "text/plain": [
       "<IPython.core.display.Markdown object>"
      ]
     },
     "metadata": {},
     "output_type": "display_data"
    },
    {
     "name": "stdout",
     "output_type": "stream",
     "text": [
      "Point: 3392.85, Min: 3391.1, Max: 3392.85\n",
      "Types: {'SR_WSM', 'SR_FCP'}\n",
      "--------------------\n"
     ]
    },
    {
     "data": {
      "text/markdown": [
       "#### -25.70009765624991"
      ],
      "text/plain": [
       "<IPython.core.display.Markdown object>"
      ]
     },
     "metadata": {},
     "output_type": "display_data"
    },
    {
     "name": "stdout",
     "output_type": "stream",
     "text": [
      "Point: 3399.65, Min: 3396.0, Max: 3399.65\n",
      "Types: {'P_D_C', 'SR_FCP', 'SR_WSM', 'P_M_C'}\n",
      "--------------------\n"
     ]
    },
    {
     "data": {
      "text/markdown": [
       "#### -18.900097656250182"
      ],
      "text/plain": [
       "<IPython.core.display.Markdown object>"
      ]
     },
     "metadata": {},
     "output_type": "display_data"
    },
    {
     "name": "stdout",
     "output_type": "stream",
     "text": [
      "Point: 3406.45, Min: 3402.6, Max: 3406.45\n",
      "Types: {'SR_WSM', 'CPR_S1', 'SR_FCP', 'P_W_H'}\n",
      "--------------------\n"
     ]
    },
    {
     "data": {
      "text/markdown": [
       "#### -15.400097656250182"
      ],
      "text/plain": [
       "<IPython.core.display.Markdown object>"
      ]
     },
     "metadata": {},
     "output_type": "display_data"
    },
    {
     "name": "stdout",
     "output_type": "stream",
     "text": [
      "Point: 3409.95, Min: 3407.8, Max: 3409.95\n",
      "Types: {'SR_WSM', 'SR_FCP'}\n",
      "--------------------\n"
     ]
    },
    {
     "data": {
      "text/markdown": [
       "#### -7.85009765625"
      ],
      "text/plain": [
       "<IPython.core.display.Markdown object>"
      ]
     },
     "metadata": {},
     "output_type": "display_data"
    },
    {
     "name": "stdout",
     "output_type": "stream",
     "text": [
      "Point: 3417.5, Min: 3413.0, Max: 3417.5\n",
      "Types: {'SR_WSM', 'SR_FCP', 'C_D_L', 'C_M_L'}\n",
      "--------------------\n"
     ]
    },
    {
     "data": {
      "text/markdown": [
       "#### -3.85009765625"
      ],
      "text/plain": [
       "<IPython.core.display.Markdown object>"
      ]
     },
     "metadata": {},
     "output_type": "display_data"
    },
    {
     "name": "stdout",
     "output_type": "stream",
     "text": [
      "Point: 3421.5, Min: 3419.65, Max: 3421.5\n",
      "Types: {'SR_WSM', 'SR_FCP'}\n",
      "--------------------\n"
     ]
    },
    {
     "data": {
      "text/markdown": [
       "#### -0.35009765625"
      ],
      "text/plain": [
       "<IPython.core.display.Markdown object>"
      ]
     },
     "metadata": {},
     "output_type": "display_data"
    },
    {
     "name": "stdout",
     "output_type": "stream",
     "text": [
      "Point: 3425.0, Min: 3425.0, Max: 3429.0\n",
      "Types: {'SR_FCP', 'C_D_C', 'C_W_C', 'P_D_H', 'P_M_H', 'SR_WSM', 'C_M_C'}\n",
      "--------------------\n"
     ]
    },
    {
     "data": {
      "text/markdown": [
       "**Current Price: 3425.35009765625**"
      ],
      "text/plain": [
       "<IPython.core.display.Markdown object>"
      ]
     },
     "metadata": {},
     "output_type": "display_data"
    },
    {
     "data": {
      "text/markdown": [
       "#### 5.199902343750182"
      ],
      "text/plain": [
       "<IPython.core.display.Markdown object>"
      ]
     },
     "metadata": {},
     "output_type": "display_data"
    },
    {
     "name": "stdout",
     "output_type": "stream",
     "text": [
      "Point: 3430.55, Min: 3430.55, Max: 3432.35\n",
      "Types: {'SR_WSM', 'SR_FCP', 'CPR_TC'}\n",
      "--------------------\n"
     ]
    },
    {
     "data": {
      "text/markdown": [
       "#### 10.39990234375"
      ],
      "text/plain": [
       "<IPython.core.display.Markdown object>"
      ]
     },
     "metadata": {},
     "output_type": "display_data"
    },
    {
     "name": "stdout",
     "output_type": "stream",
     "text": [
      "Point: 3435.75, Min: 3435.75, Max: 3439.15\n",
      "Types: {'SR_WSM', 'SR_FCP', 'CPR_PIVOT'}\n",
      "--------------------\n"
     ]
    },
    {
     "data": {
      "text/markdown": [
       "#### 15.599902343749818"
      ],
      "text/plain": [
       "<IPython.core.display.Markdown object>"
      ]
     },
     "metadata": {},
     "output_type": "display_data"
    },
    {
     "name": "stdout",
     "output_type": "stream",
     "text": [
      "Point: 3440.95, Min: 3440.95, Max: 3440.95\n",
      "Types: {'CPR_BC'}\n",
      "--------------------\n"
     ]
    },
    {
     "data": {
      "text/markdown": [
       "#### 24.64990234375"
      ],
      "text/plain": [
       "<IPython.core.display.Markdown object>"
      ]
     },
     "metadata": {},
     "output_type": "display_data"
    },
    {
     "name": "stdout",
     "output_type": "stream",
     "text": [
      "Point: 3450.0, Min: 3450.0, Max: 3453.0\n",
      "Types: {'SR_WSM', 'SR_FCP'}\n",
      "--------------------\n"
     ]
    },
    {
     "data": {
      "text/markdown": [
       "#### 31.64990234375"
      ],
      "text/plain": [
       "<IPython.core.display.Markdown object>"
      ]
     },
     "metadata": {},
     "output_type": "display_data"
    },
    {
     "name": "stdout",
     "output_type": "stream",
     "text": [
      "Point: 3457.0, Min: 3457.0, Max: 3460.1\n",
      "Types: {'C_M_O', 'SR_FCP', 'SR_WSM', 'CPR_R1', 'C_D_O'}\n",
      "--------------------\n"
     ]
    },
    {
     "data": {
      "text/markdown": [
       "#### 39.64990234375"
      ],
      "text/plain": [
       "<IPython.core.display.Markdown object>"
      ]
     },
     "metadata": {},
     "output_type": "display_data"
    },
    {
     "name": "stdout",
     "output_type": "stream",
     "text": [
      "Point: 3465.0, Min: 3465.0, Max: 3469.4\n",
      "Types: {'C_W_H', 'SR_FCP', 'C_D_H', 'C_M_H', 'SR_WSM'}\n",
      "--------------------\n"
     ]
    },
    {
     "data": {
      "text/markdown": [
       "#### 44.64990234375"
      ],
      "text/plain": [
       "<IPython.core.display.Markdown object>"
      ]
     },
     "metadata": {},
     "output_type": "display_data"
    },
    {
     "name": "stdout",
     "output_type": "stream",
     "text": [
      "Point: 3470.0, Min: 3470.0, Max: 3473.9\n",
      "Types: {'SR_WSM', 'SR_FCP'}\n",
      "--------------------\n"
     ]
    },
    {
     "data": {
      "text/markdown": [
       "#### 49.64990234375"
      ],
      "text/plain": [
       "<IPython.core.display.Markdown object>"
      ]
     },
     "metadata": {},
     "output_type": "display_data"
    },
    {
     "name": "stdout",
     "output_type": "stream",
     "text": [
      "Point: 3475.0, Min: 3475.0, Max: 3479.35\n",
      "Types: {'SR_WSM', 'SR_FCP'}\n",
      "--------------------\n"
     ]
    },
    {
     "data": {
      "text/markdown": [
       "#### 54.64990234375"
      ],
      "text/plain": [
       "<IPython.core.display.Markdown object>"
      ]
     },
     "metadata": {},
     "output_type": "display_data"
    },
    {
     "name": "stdout",
     "output_type": "stream",
     "text": [
      "Point: 3480.0, Min: 3480.0, Max: 3480.0\n",
      "Types: {'SR_WSM', 'SR_FCP'}\n",
      "--------------------\n"
     ]
    }
   ],
   "source": [
    "df_d = get_stock_price(symbol, \"25d\", \"1d\")\n",
    "df_h = get_stock_price(symbol, \"5d\", \"1h\")\n",
    "df_15m = get_stock_price(symbol, \"3d\", \"15m\")\n",
    "df_5m = get_stock_price(symbol, \"2d\", \"5m\")\n",
    "df_1m = get_stock_price(symbol, \"2d\", \"1m\")\n",
    "\n",
    "df_d = sanitize(df_d)\n",
    "df_h = sanitize(df_h)\n",
    "df_15m = sanitize(df_15m)\n",
    "df_5m = sanitize(df_5m)\n",
    "df_1m = sanitize(df_1m)\n",
    "\n",
    "open_ = df_d.iloc[-1][\"open\"]\n",
    "price = df_15m.iloc[-1][\"close\"]\n",
    "\n",
    "if (last_record[\"CPR\"] * 1.5) < last_record[\"CPR_SMA_20\"]:\n",
    "    print_value(\"## NARROW CPR\")\n",
    "\n",
    "if price > open_:\n",
    "    print_value(\"<b style='color:#b2ec5d'>Only Bullish in morning</b>\")\n",
    "else:\n",
    "    print_value(\"<b style='color:#ffa07a'>Only Bearish in morning</b>\")\n",
    "\n",
    "print_value(f\"## {symbol}\")\n",
    "print_analysis(df_d, \"1 day\")\n",
    "print_cpr_location(price, last_record)\n",
    "print_analysis(df_h, \"1 hour\")\n",
    "print_analysis(df_15m, \"15 minutes\")\n",
    "print_analysis(df_5m, \"5 minutes\")\n",
    "print_analysis(df_1m, \"1 minute\")\n",
    "\n",
    "\n",
    "levels = get_intraday_sr_levels(eod_levels, df_d, [df_5m, df_15m], price, item_count=10)\n",
    "print_result(levels, price)\n"
   ]
  }
 ],
 "metadata": {
  "kernelspec": {
   "display_name": "Python 3.10.8 ('venv': venv)",
   "language": "python",
   "name": "python3"
  },
  "language_info": {
   "codemirror_mode": {
    "name": "ipython",
    "version": 3
   },
   "file_extension": ".py",
   "mimetype": "text/x-python",
   "name": "python",
   "nbconvert_exporter": "python",
   "pygments_lexer": "ipython3",
   "version": "3.10.8"
  },
  "orig_nbformat": 4,
  "vscode": {
   "interpreter": {
    "hash": "52f058016e79b0cb6f4bc1fb0cbaec4eb0fb60249ee39701686a66fe42631fb8"
   }
  }
 },
 "nbformat": 4,
 "nbformat_minor": 2
}
