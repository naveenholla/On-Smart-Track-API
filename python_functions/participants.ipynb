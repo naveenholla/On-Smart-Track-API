{
 "cells": [
  {
   "cell_type": "code",
   "execution_count": null,
   "metadata": {},
   "outputs": [],
   "source": [
    "import django_initializer\n",
    "from ontrack.market.models.participant import ParticipantStatsActivity, ParticipantActivity\n",
    "import pandas as pd\n",
    "import numpy as np\n",
    "from ontrack.utils.datetime import DateTimeHelper as dt"
   ]
  },
  {
   "cell_type": "code",
   "execution_count": null,
   "metadata": {},
   "outputs": [],
   "source": [
    "def color_boolean(val):\n",
    "    color =''\n",
    "    foreground = ''\n",
    "    if val == \"BEARISH\":\n",
    "        color = 'red'\n",
    "        foreground = 'black'        \n",
    "    elif val == \"BULLISH\":\n",
    "        color = 'green'        \n",
    "        foreground = 'black'  \n",
    "    return f'background-color: {color}; color: {foreground}'"
   ]
  },
  {
   "cell_type": "code",
   "execution_count": null,
   "metadata": {},
   "outputs": [],
   "source": [
    "d = dt.get_past_date(days=10)\n",
    "participants = ParticipantStatsActivity.backend.filter(date__gte=d).order_by(\"date\")\n",
    "df = pd.DataFrame(list(participants.values(\"date\", \"client_type\", \"instrument\", \"no_of_contracts_bought\", \"value_of_contracts_bought\", \"value_of_contracts_sold\", \"no_of_contracts_sold\", \"open_interest\")))\n",
    "common_names = {\n",
    "    \"client_type\": \"type\",\n",
    "    \"instrument\": \"instrument\",\n",
    "    \"no_of_contracts_bought\": \"bought\",    \n",
    "    \"value_of_contracts_bought\": \"bought_value\",\n",
    "    \"no_of_contracts_sold\": \"sold\",\n",
    "    \"value_of_contracts_sold\": \"sold_value\",\n",
    "    \"open_interest\": \"oi\"\n",
    "}\n",
    "# df.set_index(\"date\", inplace = True)\n",
    "df.rename(columns=common_names, errors=\"ignore\", inplace=True)\n",
    "df['balance_contracts'] = (df[\"bought\"] - df[\"sold\"])\n",
    "df['balance_value'] = (df[\"bought_value\"] - df[\"sold_value\"])\n",
    "df['net_contracts'] = (df.groupby(['type', 'instrument'])['balance_contracts'].transform(lambda x: x.diff()))\n",
    "df['net_value'] = (df.groupby(['type', 'instrument'])['balance_value'].transform(lambda x: x.diff()))\n",
    "df['change_oi'] = (df.groupby(['type', 'instrument'])['oi'].transform(lambda x: x.diff()))\n",
    "df['pcr_contracts'] = (df[\"bought\"] / (df[\"bought\"] + df[\"sold\"])).astype(float)\n",
    "\n",
    "conditions = [\n",
    "    (df[\"change_oi\"] > 0) & (df['balance_contracts'] > 0),\n",
    "    (df[\"change_oi\"] > 0) & (df['balance_contracts'] < 0),\n",
    "    (df[\"change_oi\"] < 0) & (df['balance_contracts'] > 0),\n",
    "    (df[\"change_oi\"] < 0) & (df['balance_contracts'] < 0)]\n",
    "choices = [\"LONG BUILDUP\", \"SHORT BUILDUP\", \"SHORT COVERING\", \"LONG UNWINDING\"]\n",
    "df[\"position\"] = np.select(conditions, choices)\n",
    "\n",
    "choices = [\"BULLISH\", \"BEARISH\", \"BULLISH\", \"BEARISH\"]\n",
    "df[\"direction\"] = np.select(conditions, choices)\n",
    "\n",
    "df_f = df.tail(4)\n",
    "df_s = df_f.style.applymap(color_boolean, subset=['direction'])\n",
    "\n",
    "df_s"
   ]
  },
  {
   "cell_type": "code",
   "execution_count": null,
   "metadata": {},
   "outputs": [],
   "source": [
    "df = df[df[\"instrument\"]==\"FUTIDX\"]\n",
    "df = df[[\"date\", \"balance_value\", \"position\", \"direction\", \"instrument\"]]\n",
    "\n",
    "df_s = df.style.applymap(color_boolean, subset=['direction'])\n",
    "df_s"
   ]
  },
  {
   "cell_type": "code",
   "execution_count": null,
   "metadata": {},
   "outputs": [],
   "source": [
    "d = dt.get_past_date(days=10)\n",
    "instruments = [\"FUTIDX\", \"OPTIDX\", \"CASH\"]\n",
    "client_types = [\"CLIENT\", \"PRO\", \"DII\", \"FII\"]\n",
    "\n",
    "# instruments = [\"FUTIDX\",]\n",
    "# client_types = [\"FII\", ]\n",
    "participants = ParticipantActivity.backend.filter(date__gte=d, instrument__in=instruments, client_type__in=client_types).order_by(\"date\", \"client_type\", \"instrument\")\n",
    "df = pd.DataFrame(list(participants.values(\"date\", \"client_type\", \"instrument\", \"option_type\", \"buy_amount\", \"sell_amount\", \"net_amount\")))\n",
    "common_names = {\n",
    "    \"instrument\": \"instrument\"\n",
    "}\n",
    "\n",
    "# # df.set_index(\"date\", inplace = True)\n",
    "df.rename(columns=common_names, errors=\"ignore\", inplace=True)\n",
    "# df['balance'] = df[\"bought\"] - df[\"sold\"] \n",
    "df['long'] = (df.groupby(['client_type', 'instrument', \"option_type\"], dropna=False)['buy_amount'].transform(lambda x: x.diff()))\n",
    "df['short'] = (df.groupby(['client_type', 'instrument', \"option_type\"], dropna=False)['sell_amount'].transform(lambda x: x.diff()))\n",
    "df[\"net\"] = df['long'] - df['short']\n",
    "\n",
    "a = np.array(df['buy_amount'], dtype=float)\n",
    "b = np.array(df['sell_amount'], dtype=float)\n",
    "df[\"lsr\"] = np.divide(a, b, out=np.zeros_like(a), where= b!=0)\n",
    "df['lsr'] = np.round(df['lsr'], 2)\n",
    "\n",
    "a = np.array(df['buy_amount'], dtype=float)\n",
    "b = np.array((df['buy_amount'] + df['sell_amount']), dtype=float)\n",
    "df['pcr'] = np.divide(a, b, out=np.zeros_like(a), where= b!=0)\n",
    "df['pcr'] = np.round(df['pcr'], 2)\n",
    "\n",
    "conditions = [\n",
    "    (df['option_type'] != \"PE\" ) & (df['long'] > df['short']) & (df['long'] + df['short'] > 0),\n",
    "    (df['option_type'] != \"PE\" ) & (df['long'] < df['short']) & (df['long'] + df['short'] > 0),\n",
    "    (df['option_type'] != \"PE\" ) & (df['long'] < df['short']) & (df['long'] + df['short'] < 0),\n",
    "    (df['option_type'] != \"PE\" ) & (df['long'] > df['short']) & (df['long'] + df['short'] < 0),\n",
    "    \n",
    "    (df['option_type'] == \"PE\" ) & (df['long'] > df['short']) & (df['long'] + df['short'] > 0),\n",
    "    (df['option_type'] == \"PE\" ) & (df['long'] < df['short']) & (df['long'] + df['short'] > 0),\n",
    "    (df['option_type'] == \"PE\" ) & (df['long'] < df['short']) & (df['long'] + df['short'] < 0),\n",
    "    (df['option_type'] == \"PE\" ) & (df['long'] > df['short']) & (df['long'] + df['short'] < 0)]\n",
    "choices = [\n",
    "    \"LONG BUILDUP\", \n",
    "    \"SHORT BUILDUP\", \n",
    "    \"LONG UNWINDING\", \n",
    "    \"SHORT COVERING\", \n",
    "    \"SHORT BUILDUP\", \n",
    "    \"LONG BUILDUP\", \n",
    "    \"SHORT COVERING\", \n",
    "    \"LONG UNWINDING\", ]\n",
    "df[\"position\"] = np.select(conditions, choices, default=\"NA\")\n",
    "\n",
    "choices = [\"BULLISH\", \"BEARISH\", \"BEARISH\", \"BULLISH\", \"BEARISH\", \"BULLISH\" , \"BULLISH\" , \"BEARISH\"]\n",
    "df[\"direction\"] = np.select(conditions, choices, default=\"NA\")\n",
    "\n",
    "#df = df.tail(14)\n",
    "df = df.style.applymap(color_boolean, subset=['direction'])\n",
    "\n",
    "df"
   ]
  }
 ],
 "metadata": {
  "kernelspec": {
   "display_name": "Python 3.10.8 ('venv': venv)",
   "language": "python",
   "name": "python3"
  },
  "language_info": {
   "codemirror_mode": {
    "name": "ipython",
    "version": 3
   },
   "file_extension": ".py",
   "mimetype": "text/x-python",
   "name": "python",
   "nbconvert_exporter": "python",
   "pygments_lexer": "ipython3",
   "version": "3.10.8"
  },
  "orig_nbformat": 4,
  "vscode": {
   "interpreter": {
    "hash": "52f058016e79b0cb6f4bc1fb0cbaec4eb0fb60249ee39701686a66fe42631fb8"
   }
  }
 },
 "nbformat": 4,
 "nbformat_minor": 2
}
