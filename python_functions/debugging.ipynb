{
 "cells": [
  {
   "cell_type": "code",
   "execution_count": 1,
   "metadata": {},
   "outputs": [],
   "source": [
    "import django_initializer"
   ]
  },
  {
   "cell_type": "code",
   "execution_count": 2,
   "metadata": {},
   "outputs": [],
   "source": [
    "from ontrack.market.api.logic.endofdata import EndOfDayData\n",
    "from ontrack.utils.datetime import DateTimeHelper as dt\n",
    "from ontrack.utils.base.enum import ExchangeType, SettingKeyType\n",
    "from ontrack.ta.utils._levels import get_eod_sr_levels, get_intraday_sr_levels\n",
    "from ontrack.ta.core import sanitize\n",
    "import ontrack.ta as ta\n",
    "from operator import itemgetter\n",
    "from ontrack.utils.numbers import NumberHelper as nh\n",
    "from IPython.display import display, Markdown\n",
    "\n",
    "import pandas as pd\n",
    "import yfinance as yf\n",
    "import matplotlib.dates as mpl_dates"
   ]
  },
  {
   "cell_type": "code",
   "execution_count": 3,
   "metadata": {},
   "outputs": [],
   "source": [
    "import numpy as np\n",
    "from pandas import Timestamp\n",
    "import math\n",
    "from mplfinance.original_flavor import candlestick_ohlc\n",
    "import matplotlib.pyplot as plt"
   ]
  },
  {
   "cell_type": "code",
   "execution_count": 59,
   "metadata": {},
   "outputs": [],
   "source": [
    "def get_stock_price(symbol, period=\"2y\", interval=\"1d\", start_date=None, end_date=None):\n",
    "  df = yf.download(tickers=symbol, interval=interval, period=period, start=start_date, end=end_date)\n",
    "  df['Date'] = pd.to_datetime(df.index)\n",
    "#   df = df.set_index('Date')\n",
    "#   df['Date'] = df['Date'].apply(mpl_dates.date2num)\n",
    "  df = df.loc[:,['Date', 'Open', 'High', 'Low', 'Close', \"Adj Close\", \"Volume\"]]\n",
    "  return df\n",
    "\n",
    "def candle_stick(df):\n",
    "    strategy = ta.Strategy(\n",
    "        name=\"intraday\",\n",
    "        ta=[\n",
    "            {\n",
    "                \"kind\": \"cdl_pattern\",\n",
    "                \"name\": \"all\",\n",
    "                \"consolidated\": True,\n",
    "                \"append\": True,\n",
    "            },\n",
    "            {\"kind\": \"amat\"},            \n",
    "            {\"kind\": \"cpr\"},\n",
    "            {\"kind\": \"ema\", \"length\": 5},\n",
    "            {\"kind\": \"ema\", \"length\": 9},\n",
    "            {\"kind\": \"ema\", \"length\": 13},\n",
    "            {\"kind\": \"bbands\", \"length\": 20, \"std\": 1.5},\n",
    "        ],\n",
    "    )\n",
    "    df.ta.cores = 0\n",
    "    df.ta.sanitize()\n",
    "    df.ta.strategy(strategy)\n",
    "\n",
    "    row = df.ta.second_last_record\n",
    "\n",
    "    cdl_rows = []\n",
    "    cdl_string = row[\"CDL_CONSOLIDATED\"].strip()\n",
    "    value_ = \"\"\n",
    "    if cdl_string:\n",
    "        for cdl in cdl_string.split(\";\"):\n",
    "            cdl_rs = cdl.split(\"|\")\n",
    "            name = cdl_rs[0]\n",
    "            score = nh.str_to_float(cdl_rs[1])\n",
    "            sentiment = \"BULLISH\" if score > 0 else \"BEARISH\"\n",
    "            sentiment_html = f\"<b style='color:#FF0000'>BEARISH</b> {name} {score}\" if score < 0 else f\"<b style='color:#008000'>BULLISH</b>  {name} {score}\"\n",
    "\n",
    "            cdl_row = {}\n",
    "            cdl_row[\"rank\"] = 0\n",
    "            cdl_row[\"name\"] = name\n",
    "            cdl_row[\"sentiment\"] = sentiment\n",
    "            cdl_row[\"score\"] = score\n",
    "            cdl_rows.append(cdl_row)\n",
    "            \n",
    "            value_ = f\"{value_}{sentiment_html}| \"\n",
    "\n",
    "    cdl_rows = sorted(cdl_rows, key=itemgetter(\"rank\"), reverse=False)\n",
    "    return cdl_string, cdl_rows, value_, row\n",
    "\n",
    "def print_levels_data(record, price):\n",
    "    print_value(f\"#### {record['point'] - price}\")\n",
    "    print(f\"Point: {record['point']}, Min: {record['min_point']}, Max: {record['max_point']}\")\n",
    "    print(f\"Types: {set(record['types'])}\")\n",
    "    print(\"--------------------\")\n",
    "\n",
    "def print_result(levels, price):\n",
    "    print(\"--------------------\")\n",
    "    price_printed = False\n",
    "    \n",
    "    for record in levels:\n",
    "        if not record['is_below'] and not price_printed:\n",
    "            display(Markdown(f\"**Current Price: {price}**\"))\n",
    "            price_printed = True\n",
    "            \n",
    "        print_levels_data(record, price)\n",
    "    \n",
    "def print_value(message):\n",
    "    display(Markdown(f\"{message}\"))\n",
    "    \n",
    "def print_cpr_location(price, prev_day):\n",
    "    if price >= prev_day[\"CPR_R3\"]:\n",
    "        print_value(\"<b style='color:#FF0000'>ABOVE R3</b>\")\n",
    "    elif price >= prev_day[\"CPR_R2\"]:\n",
    "        print_value(\"<b style='color:#FF0000'>BETWEEN R2 AND R3</b>\")\n",
    "    elif price >= prev_day[\"CPR_R1\"]:\n",
    "        print_value(\"<span style='color:#ffa07a'>BETWEEN R2 AND R1</span>\")\n",
    "    elif price >= prev_day[\"CPR_TC\"]:\n",
    "        print_value(\"BETWEEN R1 AND TC\")\n",
    "    elif price >= prev_day[\"CPR_PIVOT\"]:    \n",
    "        print_value(\"BETWEEN PIVOT AND TC\")\n",
    "    elif prev_day[\"CPR_BC\"] < price:\n",
    "        print_value(\"BETWEEN PIVOT AND BC\")\n",
    "    elif prev_day[\"CPR_S1\"] < price:\n",
    "        print_value(\"<span style='color:#b2ec5d'>BETWEEN BC AND S1</span>\")\n",
    "    elif prev_day[\"CPR_S2\"] < price:\n",
    "        print_value(\"<b style='color:#b2ec5d'>BETWEEN S2 AND S1</b>\")\n",
    "    elif prev_day[\"CPR_S3\"] < price:\n",
    "        print_value(\"<b style='color:#008000'>BETWEEN S3 AND S2</b>\")\n",
    "    elif prev_day[\"CPR_S3\"] > price:\n",
    "        print_value(\"<b style='color:#008000'>BELOW S3\")\n",
    "        \n",
    "def print_ema_location(price, high, low, ema, ema_name):\n",
    "    if high <= ema:\n",
    "        print_value(f\"<span style='color:#b2ec5d'>Candle below {ema_name}</span>\")\n",
    "    elif low >= ema:\n",
    "       print_value(f\"<span style='color:#ffa07a'>Candle above {ema_name}<span>\")\n",
    "       \n",
    "def print_bbband_location(price, upper, lower):\n",
    "    if price <= lower:\n",
    "        print_value(f\"<span style='color:#b2ec5d'>price below BBAND</span>\")\n",
    "    elif price >= upper:\n",
    "       print_value(f\"<span style='color:#ffa07a'>price above BBAND</span>\")\n",
    "       \n",
    "def print_analysis(df, name):\n",
    "    r = candle_stick(df)\n",
    "    print_value(f'### {name}:')\n",
    "    print_value(f'{r[2]}')\n",
    "    row = r[3]\n",
    "    price = row[\"close\"]\n",
    "    high = row[\"high\"]\n",
    "    low = row[\"low\"]\n",
    "    \n",
    "    print_value(f\"AMAT Long Run: {row['AMATe_LR_8_21_2']}\")\n",
    "    print_value(f\"AMAT Short Run: {row['AMATe_SR_8_21_2']}\")\n",
    "    \n",
    "    ema = row[\"EMA_5\"]\n",
    "    print_ema_location(price, high, low, ema, \"5 EMA\")\n",
    "    \n",
    "    ema = row[\"EMA_9\"]\n",
    "    print_ema_location(price, high, low, ema, \"9 EMA\")\n",
    "    \n",
    "    ema = row[\"EMA_13\"]\n",
    "    print_ema_location(price, high, low, ema, \"13 EMA\")   \n",
    "     \n",
    "    upper = row[\"BBU_20_1.5\"]\n",
    "    lower = row[\"BBL_20_1.5\"]\n",
    "    print_bbband_location(price, upper, lower)\n",
    "        \n"
   ]
  },
  {
   "cell_type": "code",
   "execution_count": 63,
   "metadata": {},
   "outputs": [
    {
     "name": "stdout",
     "output_type": "stream",
     "text": [
      "[*********************100%***********************]  1 of 1 completed\n",
      "[*********************100%***********************]  1 of 1 completed\n",
      "[*********************100%***********************]  1 of 1 completed\n",
      "[*********************100%***********************]  1 of 1 completed\n",
      "[*********************100%***********************]  1 of 1 completed\n",
      "                 date          open          high           low         close  \\\n",
      "date                                                                            \n",
      "2022-09-12 2022-09-12  40540.449219  41840.148438  40288.898438  40776.800781   \n",
      "2022-09-19 2022-09-19  40685.601562  41677.648438  39412.699219  39546.250000   \n",
      "2022-09-26 2022-09-26  39027.851562  39229.398438  37386.351562  38631.949219   \n",
      "2022-10-03 2022-10-03  38444.898438  39608.351562  37963.250000  39178.050781   \n",
      "2022-10-10 2022-10-10  38641.550781  39570.851562  38437.949219  39305.601562   \n",
      "2022-10-17 2022-10-17  39295.601562  41032.250000  39146.699219  40784.050781   \n",
      "2022-10-24 2022-10-24  41348.351562  41530.648438  40839.300781  40990.851562   \n",
      "2022-10-31 2022-10-31  41265.699219  41677.250000  40819.148438  41258.449219   \n",
      "2022-11-07 2022-11-07  41740.648438  42345.500000  41318.601562  42137.050781   \n",
      "2022-11-14 2022-11-14  42177.550781  42622.750000  41965.449219  42437.449219   \n",
      "\n",
      "               adj_close   volume  \n",
      "date                               \n",
      "2022-09-12  40776.800781  1031300  \n",
      "2022-09-19  39546.250000   968200  \n",
      "2022-09-26  38631.949219  1120200  \n",
      "2022-10-03  39178.050781   737800  \n",
      "2022-10-10  39305.601562   877600  \n",
      "2022-10-17  40784.050781  1266700  \n",
      "2022-10-24  40990.851562   902600  \n",
      "2022-10-31  41258.449219  1171400  \n",
      "2022-11-07  42137.050781  1392700  \n",
      "2022-11-14  42437.449219   913000  \n",
      "                 date          open          high           low         close\n",
      "date                                                                         \n",
      "2022-09-25 2022-09-23  40685.601562  41677.648438  39412.699219  39546.250000\n",
      "2022-10-02 2022-09-30  39027.851562  39229.398438  37386.351562  38631.949219\n",
      "2022-10-09 2022-10-07  38444.898438  39608.351562  37963.250000  39178.050781\n",
      "2022-10-16 2022-10-14  38641.550781  39570.851562  38437.949219  39305.601562\n",
      "2022-10-23 2022-10-21  39295.601562  41032.250000  39146.699219  40784.050781\n",
      "2022-10-30 2022-10-28  41348.351562  41530.648438  40839.300781  40990.851562\n",
      "2022-11-06 2022-11-04  41265.699219  41677.250000  40819.148438  41258.449219\n",
      "2022-11-13 2022-11-11  41740.648438  42345.500000  41318.601562  42137.050781\n",
      "2022-11-20 2022-11-18  42177.550781  42622.750000  41965.449219  42437.449219\n",
      "2022-11-27 2022-11-21  42286.949219  42386.800781  42202.550781  42346.550781\n"
     ]
    }
   ],
   "source": [
    "\n",
    "#symbol = 'TCS.NS'\n",
    "#symbol = 'IDFCFIRSTB.NS'\n",
    "symbol = '^NSEBANK'\n",
    "#symbol = \"^NSEI\"\n",
    "#symbol = \"MSFT\"\n",
    "df_y = get_stock_price(symbol, \"2y\", \"1d\")\n",
    "df_m = get_stock_price(symbol, \"2y\", \"1mo\")\n",
    "df_w = get_stock_price(symbol, \"2y\", \"1wk\")\n",
    "df_d = get_stock_price(symbol, \"1y\", \"1d\")\n",
    "df_h = get_stock_price(symbol, \"6mo\", \"1h\")\n",
    "\n",
    "df_y = sanitize(df_y)\n",
    "df_m = sanitize(df_m)\n",
    "df_w = sanitize(df_w)\n",
    "df_d = sanitize(df_d)\n",
    "df_h = sanitize(df_h)\n",
    "\n",
    "print(df_w.tail(10))\n",
    "df_values = df_y.resample(\"W\").agg(\n",
    "        {\"date\": \"max\", \"open\": \"first\", \"high\": \"max\", \"low\": \"min\", \"close\": \"last\"}\n",
    "    )\n",
    "print(df_values.tail(10))\n"
   ]
  },
  {
   "cell_type": "code",
   "execution_count": 24,
   "metadata": {},
   "outputs": [],
   "source": [
    "obj = EndOfDayData(ExchangeType.NSE)\n",
    "result= obj.populate_indicators(df_y)\n",
    "df = result[0]                \n",
    "last_record = df.ta.second_last_record\n",
    "eod_levels = get_eod_sr_levels(df, [df_m, df_w, df_h])"
   ]
  },
  {
   "cell_type": "code",
   "execution_count": 34,
   "metadata": {},
   "outputs": [
    {
     "name": "stdout",
     "output_type": "stream",
     "text": [
      "[*********************100%***********************]  1 of 1 completed\n",
      "[*********************100%***********************]  1 of 1 completed\n",
      "[*********************100%***********************]  1 of 1 completed\n",
      "[*********************100%***********************]  1 of 1 completed\n",
      "[*********************100%***********************]  1 of 1 completed\n"
     ]
    },
    {
     "data": {
      "text/markdown": [
       "## NARROW CPR"
      ],
      "text/plain": [
       "<IPython.core.display.Markdown object>"
      ]
     },
     "metadata": {},
     "output_type": "display_data"
    },
    {
     "data": {
      "text/markdown": [
       "<b style='color:#b2ec5d'>Only Bullish in morning</b>"
      ],
      "text/plain": [
       "<IPython.core.display.Markdown object>"
      ]
     },
     "metadata": {},
     "output_type": "display_data"
    },
    {
     "data": {
      "text/markdown": [
       "## ^NSEBANK"
      ],
      "text/plain": [
       "<IPython.core.display.Markdown object>"
      ]
     },
     "metadata": {},
     "output_type": "display_data"
    },
    {
     "data": {
      "text/markdown": [
       "### 1 day:"
      ],
      "text/plain": [
       "<IPython.core.display.Markdown object>"
      ]
     },
     "metadata": {},
     "output_type": "display_data"
    },
    {
     "data": {
      "text/markdown": [],
      "text/plain": [
       "<IPython.core.display.Markdown object>"
      ]
     },
     "metadata": {},
     "output_type": "display_data"
    },
    {
     "data": {
      "text/markdown": [
       "AMAT Long Run: 1"
      ],
      "text/plain": [
       "<IPython.core.display.Markdown object>"
      ]
     },
     "metadata": {},
     "output_type": "display_data"
    },
    {
     "data": {
      "text/markdown": [
       "AMAT Short Run: 0"
      ],
      "text/plain": [
       "<IPython.core.display.Markdown object>"
      ]
     },
     "metadata": {},
     "output_type": "display_data"
    },
    {
     "data": {
      "text/markdown": [
       "<span style='color:#ffa07a'>Candle above 9 EMA<span>"
      ],
      "text/plain": [
       "<IPython.core.display.Markdown object>"
      ]
     },
     "metadata": {},
     "output_type": "display_data"
    },
    {
     "data": {
      "text/markdown": [
       "<span style='color:#ffa07a'>Candle above 13 EMA<span>"
      ],
      "text/plain": [
       "<IPython.core.display.Markdown object>"
      ]
     },
     "metadata": {},
     "output_type": "display_data"
    },
    {
     "data": {
      "text/markdown": [
       "<span style='color:#b2ec5d'>BETWEEN BC AND S1</span>"
      ],
      "text/plain": [
       "<IPython.core.display.Markdown object>"
      ]
     },
     "metadata": {},
     "output_type": "display_data"
    },
    {
     "data": {
      "text/markdown": [
       "### 1 hour:"
      ],
      "text/plain": [
       "<IPython.core.display.Markdown object>"
      ]
     },
     "metadata": {},
     "output_type": "display_data"
    },
    {
     "data": {
      "text/markdown": [
       "<b style='color:#FF0000'>BEARISH</b> CDL_HANGINGMAN -100.0| <b style='color:#008000'>BULLISH</b>  CDL_HIKKAKE 200.0| <b style='color:#008000'>BULLISH</b>  CDL_SHORTLINE 100.0| "
      ],
      "text/plain": [
       "<IPython.core.display.Markdown object>"
      ]
     },
     "metadata": {},
     "output_type": "display_data"
    },
    {
     "data": {
      "text/markdown": [
       "AMAT Long Run: 1"
      ],
      "text/plain": [
       "<IPython.core.display.Markdown object>"
      ]
     },
     "metadata": {},
     "output_type": "display_data"
    },
    {
     "data": {
      "text/markdown": [
       "AMAT Short Run: 0"
      ],
      "text/plain": [
       "<IPython.core.display.Markdown object>"
      ]
     },
     "metadata": {},
     "output_type": "display_data"
    },
    {
     "data": {
      "text/markdown": [
       "### 15 minutes:"
      ],
      "text/plain": [
       "<IPython.core.display.Markdown object>"
      ]
     },
     "metadata": {},
     "output_type": "display_data"
    },
    {
     "data": {
      "text/markdown": [
       "<b style='color:#FF0000'>BEARISH</b> CDL_ADVANCEBLOCK -100.0| <b style='color:#FF0000'>BEARISH</b> CDL_HANGINGMAN -100.0| "
      ],
      "text/plain": [
       "<IPython.core.display.Markdown object>"
      ]
     },
     "metadata": {},
     "output_type": "display_data"
    },
    {
     "data": {
      "text/markdown": [
       "AMAT Long Run: 1"
      ],
      "text/plain": [
       "<IPython.core.display.Markdown object>"
      ]
     },
     "metadata": {},
     "output_type": "display_data"
    },
    {
     "data": {
      "text/markdown": [
       "AMAT Short Run: 0"
      ],
      "text/plain": [
       "<IPython.core.display.Markdown object>"
      ]
     },
     "metadata": {},
     "output_type": "display_data"
    },
    {
     "data": {
      "text/markdown": [
       "<span style='color:#ffa07a'>Candle above 9 EMA<span>"
      ],
      "text/plain": [
       "<IPython.core.display.Markdown object>"
      ]
     },
     "metadata": {},
     "output_type": "display_data"
    },
    {
     "data": {
      "text/markdown": [
       "<span style='color:#ffa07a'>Candle above 13 EMA<span>"
      ],
      "text/plain": [
       "<IPython.core.display.Markdown object>"
      ]
     },
     "metadata": {},
     "output_type": "display_data"
    },
    {
     "data": {
      "text/markdown": [
       "<span style='color:#ffa07a'>price above BBAND</span>"
      ],
      "text/plain": [
       "<IPython.core.display.Markdown object>"
      ]
     },
     "metadata": {},
     "output_type": "display_data"
    },
    {
     "data": {
      "text/markdown": [
       "### 5 minutes:"
      ],
      "text/plain": [
       "<IPython.core.display.Markdown object>"
      ]
     },
     "metadata": {},
     "output_type": "display_data"
    },
    {
     "data": {
      "text/markdown": [
       "<b style='color:#FF0000'>BEARISH</b> CDL_HANGINGMAN -100.0| <b style='color:#008000'>BULLISH</b>  CDL_SHORTLINE 100.0| "
      ],
      "text/plain": [
       "<IPython.core.display.Markdown object>"
      ]
     },
     "metadata": {},
     "output_type": "display_data"
    },
    {
     "data": {
      "text/markdown": [
       "AMAT Long Run: 1"
      ],
      "text/plain": [
       "<IPython.core.display.Markdown object>"
      ]
     },
     "metadata": {},
     "output_type": "display_data"
    },
    {
     "data": {
      "text/markdown": [
       "AMAT Short Run: 0"
      ],
      "text/plain": [
       "<IPython.core.display.Markdown object>"
      ]
     },
     "metadata": {},
     "output_type": "display_data"
    },
    {
     "data": {
      "text/markdown": [
       "<span style='color:#ffa07a'>Candle above 5 EMA<span>"
      ],
      "text/plain": [
       "<IPython.core.display.Markdown object>"
      ]
     },
     "metadata": {},
     "output_type": "display_data"
    },
    {
     "data": {
      "text/markdown": [
       "<span style='color:#ffa07a'>Candle above 9 EMA<span>"
      ],
      "text/plain": [
       "<IPython.core.display.Markdown object>"
      ]
     },
     "metadata": {},
     "output_type": "display_data"
    },
    {
     "data": {
      "text/markdown": [
       "<span style='color:#ffa07a'>Candle above 13 EMA<span>"
      ],
      "text/plain": [
       "<IPython.core.display.Markdown object>"
      ]
     },
     "metadata": {},
     "output_type": "display_data"
    },
    {
     "data": {
      "text/markdown": [
       "<span style='color:#ffa07a'>price above BBAND</span>"
      ],
      "text/plain": [
       "<IPython.core.display.Markdown object>"
      ]
     },
     "metadata": {},
     "output_type": "display_data"
    },
    {
     "data": {
      "text/markdown": [
       "### 1 minute:"
      ],
      "text/plain": [
       "<IPython.core.display.Markdown object>"
      ]
     },
     "metadata": {},
     "output_type": "display_data"
    },
    {
     "data": {
      "text/markdown": [],
      "text/plain": [
       "<IPython.core.display.Markdown object>"
      ]
     },
     "metadata": {},
     "output_type": "display_data"
    },
    {
     "data": {
      "text/markdown": [
       "AMAT Long Run: 1"
      ],
      "text/plain": [
       "<IPython.core.display.Markdown object>"
      ]
     },
     "metadata": {},
     "output_type": "display_data"
    },
    {
     "data": {
      "text/markdown": [
       "AMAT Short Run: 0"
      ],
      "text/plain": [
       "<IPython.core.display.Markdown object>"
      ]
     },
     "metadata": {},
     "output_type": "display_data"
    },
    {
     "data": {
      "text/markdown": [
       "<span style='color:#ffa07a'>Candle above 9 EMA<span>"
      ],
      "text/plain": [
       "<IPython.core.display.Markdown object>"
      ]
     },
     "metadata": {},
     "output_type": "display_data"
    },
    {
     "data": {
      "text/markdown": [
       "<span style='color:#ffa07a'>Candle above 13 EMA<span>"
      ],
      "text/plain": [
       "<IPython.core.display.Markdown object>"
      ]
     },
     "metadata": {},
     "output_type": "display_data"
    },
    {
     "data": {
      "text/markdown": [
       "<span style='color:#ffa07a'>price above BBAND</span>"
      ],
      "text/plain": [
       "<IPython.core.display.Markdown object>"
      ]
     },
     "metadata": {},
     "output_type": "display_data"
    },
    {
     "name": "stdout",
     "output_type": "stream",
     "text": [
      "--------------------\n"
     ]
    },
    {
     "data": {
      "text/markdown": [
       "#### -537.2992187499985"
      ],
      "text/plain": [
       "<IPython.core.display.Markdown object>"
      ]
     },
     "metadata": {},
     "output_type": "display_data"
    },
    {
     "name": "stdout",
     "output_type": "stream",
     "text": [
      "Point: 41840.15, Min: 41829.6, Max: 41840.15\n",
      "Types: {'SR_FCP', 'SR_WSM'}\n",
      "--------------------\n"
     ]
    },
    {
     "data": {
      "text/markdown": [
       "#### -428.6492187499971"
      ],
      "text/plain": [
       "<IPython.core.display.Markdown object>"
      ]
     },
     "metadata": {},
     "output_type": "display_data"
    },
    {
     "name": "stdout",
     "output_type": "stream",
     "text": [
      "Point: 41948.8, Min: 41920.8, Max: 41948.8\n",
      "Types: {'SR_FCP', 'SR_WSM'}\n",
      "--------------------\n"
     ]
    },
    {
     "data": {
      "text/markdown": [
       "#### -411.2492187500029"
      ],
      "text/plain": [
       "<IPython.core.display.Markdown object>"
      ]
     },
     "metadata": {},
     "output_type": "display_data"
    },
    {
     "name": "stdout",
     "output_type": "stream",
     "text": [
      "Point: 41966.2, Min: 41965.0, Max: 41966.2\n",
      "Types: {'P_W_L', 'SR_FCP', 'SR_WSM'}\n",
      "--------------------\n"
     ]
    },
    {
     "data": {
      "text/markdown": [
       "#### -296.6492187499971"
      ],
      "text/plain": [
       "<IPython.core.display.Markdown object>"
      ]
     },
     "metadata": {},
     "output_type": "display_data"
    },
    {
     "name": "stdout",
     "output_type": "stream",
     "text": [
      "Point: 42080.8, Min: 42042.42, Max: 42080.8\n",
      "Types: {'SR_FCP', 'CPR_S3'}\n",
      "--------------------\n"
     ]
    },
    {
     "data": {
      "text/markdown": [
       "#### -254.95921875000204"
      ],
      "text/plain": [
       "<IPython.core.display.Markdown object>"
      ]
     },
     "metadata": {},
     "output_type": "display_data"
    },
    {
     "name": "stdout",
     "output_type": "stream",
     "text": [
      "Point: 42122.49, Min: 42122.49, Max: 42122.49\n",
      "Types: {'CPR_S2'}\n",
      "--------------------\n"
     ]
    },
    {
     "data": {
      "text/markdown": [
       "#### -163.8992187499971"
      ],
      "text/plain": [
       "<IPython.core.display.Markdown object>"
      ]
     },
     "metadata": {},
     "output_type": "display_data"
    },
    {
     "name": "stdout",
     "output_type": "stream",
     "text": [
      "Point: 42213.55, Min: 42177.55, Max: 42213.55\n",
      "Types: {'CPR_S1', 'SR_FCP', 'SR_WSM', 'C_D_L', 'P_W_O', 'C_W_L'}\n",
      "--------------------\n"
     ]
    },
    {
     "data": {
      "text/markdown": [
       "#### -115.79921874999854"
      ],
      "text/plain": [
       "<IPython.core.display.Markdown object>"
      ]
     },
     "metadata": {},
     "output_type": "display_data"
    },
    {
     "name": "stdout",
     "output_type": "stream",
     "text": [
      "Point: 42261.65, Min: 42224.0, Max: 42261.65\n",
      "Types: {'SR_WSM', 'SR_FCP', 'P_D_L'}\n",
      "--------------------\n"
     ]
    },
    {
     "data": {
      "text/markdown": [
       "#### -75.14921874999709"
      ],
      "text/plain": [
       "<IPython.core.display.Markdown object>"
      ]
     },
     "metadata": {},
     "output_type": "display_data"
    },
    {
     "name": "stdout",
     "output_type": "stream",
     "text": [
      "Point: 42302.3, Min: 42265.0, Max: 42302.3\n",
      "Types: {'SR_FCP', 'SR_WSM', 'C_W_C', 'C_D_C', 'C_M_C', 'CPR_TC', 'C_W_O', 'C_D_O', 'CPR_PIVOT', 'CPR_BC'}\n",
      "--------------------\n"
     ]
    },
    {
     "data": {
      "text/markdown": [
       "#### -32.299218749998545"
      ],
      "text/plain": [
       "<IPython.core.display.Markdown object>"
      ]
     },
     "metadata": {},
     "output_type": "display_data"
    },
    {
     "name": "stdout",
     "output_type": "stream",
     "text": [
      "Point: 42345.15, Min: 42307.9, Max: 42345.15\n",
      "Types: {'C_D_C', 'SR_FCP', 'SR_WSM'}\n",
      "--------------------\n"
     ]
    },
    {
     "data": {
      "text/markdown": [
       "#### -22.39921874999709"
      ],
      "text/plain": [
       "<IPython.core.display.Markdown object>"
      ]
     },
     "metadata": {},
     "output_type": "display_data"
    },
    {
     "name": "stdout",
     "output_type": "stream",
     "text": [
      "Point: 42355.05, Min: 42355.05, Max: 42389.0\n",
      "Types: {'SR_FCP', 'SR_WSM', 'C_D_C', 'C_D_H', 'C_W_H', 'CPR_R1'}\n",
      "--------------------\n"
     ]
    },
    {
     "data": {
      "text/markdown": [
       "**Current Price: 42377.44921875**"
      ],
      "text/plain": [
       "<IPython.core.display.Markdown object>"
      ]
     },
     "metadata": {},
     "output_type": "display_data"
    },
    {
     "data": {
      "text/markdown": [
       "#### 16.60078125000291"
      ],
      "text/plain": [
       "<IPython.core.display.Markdown object>"
      ]
     },
     "metadata": {},
     "output_type": "display_data"
    },
    {
     "name": "stdout",
     "output_type": "stream",
     "text": [
      "Point: 42394.05, Min: 42394.05, Max: 42427.05\n",
      "Types: {'SR_FCP', 'SR_WSM'}\n",
      "--------------------\n"
     ]
    },
    {
     "data": {
      "text/markdown": [
       "#### 59.55078125"
      ],
      "text/plain": [
       "<IPython.core.display.Markdown object>"
      ]
     },
     "metadata": {},
     "output_type": "display_data"
    },
    {
     "name": "stdout",
     "output_type": "stream",
     "text": [
      "Point: 42437.0, Min: 42437.0, Max: 42461.68\n",
      "Types: {'P_W_C', 'CPR_R2', 'P_D_C'}\n",
      "--------------------\n"
     ]
    },
    {
     "data": {
      "text/markdown": [
       "#### 99.15078124999854"
      ],
      "text/plain": [
       "<IPython.core.display.Markdown object>"
      ]
     },
     "metadata": {},
     "output_type": "display_data"
    },
    {
     "name": "stdout",
     "output_type": "stream",
     "text": [
      "Point: 42476.6, Min: 42476.6, Max: 42490.95\n",
      "Types: {'SR_FCP', 'SR_WSM'}\n",
      "--------------------\n"
     ]
    },
    {
     "data": {
      "text/markdown": [
       "#### 157.8507812500029"
      ],
      "text/plain": [
       "<IPython.core.display.Markdown object>"
      ]
     },
     "metadata": {},
     "output_type": "display_data"
    },
    {
     "name": "stdout",
     "output_type": "stream",
     "text": [
      "Point: 42535.3, Min: 42535.3, Max: 42551.21\n",
      "Types: {'CPR_R3', 'ATC', 'P_D_O'}\n",
      "--------------------\n"
     ]
    },
    {
     "data": {
      "text/markdown": [
       "#### 198.90078124999854"
      ],
      "text/plain": [
       "<IPython.core.display.Markdown object>"
      ]
     },
     "metadata": {},
     "output_type": "display_data"
    },
    {
     "name": "stdout",
     "output_type": "stream",
     "text": [
      "Point: 42576.35, Min: 42576.35, Max: 42605.5\n",
      "Types: {'P_D_H', 'SR_FCP', 'SR_WSM'}\n",
      "--------------------\n"
     ]
    },
    {
     "data": {
      "text/markdown": [
       "#### 244.05078125"
      ],
      "text/plain": [
       "<IPython.core.display.Markdown object>"
      ]
     },
     "metadata": {},
     "output_type": "display_data"
    },
    {
     "name": "stdout",
     "output_type": "stream",
     "text": [
      "Point: 42621.5, Min: 42621.5, Max: 42623.0\n",
      "Types: {'SR_FCP', 'SR_WSM', 'C_M_H', '52W_H', 'ATH', 'P_W_H'}\n",
      "--------------------\n"
     ]
    }
   ],
   "source": [
    "df_d = get_stock_price(symbol, \"25d\", \"1d\")\n",
    "df_h = get_stock_price(symbol, \"5d\", \"1h\")\n",
    "df_15m = get_stock_price(symbol, \"3d\", \"15m\")\n",
    "df_5m = get_stock_price(symbol, \"2d\", \"5m\")\n",
    "df_1m = get_stock_price(symbol, \"2d\", \"1m\")\n",
    "\n",
    "df_d = sanitize(df_d)\n",
    "df_h = sanitize(df_h)\n",
    "df_15m = sanitize(df_15m)\n",
    "df_5m = sanitize(df_5m)\n",
    "df_1m = sanitize(df_1m)\n",
    "\n",
    "open_ = df_d.iloc[-1][\"open\"]\n",
    "price = df_15m.iloc[-1][\"close\"]\n",
    "\n",
    "if (last_record[\"CPR\"] * 1.5) < last_record[\"CPR_SMA_20\"]:\n",
    "    print_value(\"## NARROW CPR\")\n",
    "\n",
    "if price > open_:\n",
    "    print_value(\"<b style='color:#b2ec5d'>Only Bullish in morning</b>\")\n",
    "else:\n",
    "    print_value(\"<b style='color:#ffa07a'>Only Bearish in morning</b>\")\n",
    "\n",
    "print_value(f\"## {symbol}\")\n",
    "print_analysis(df_d, \"1 day\")\n",
    "print_cpr_location(price, last_record)\n",
    "print_analysis(df_h, \"1 hour\")\n",
    "print_analysis(df_15m, \"15 minutes\")\n",
    "print_analysis(df_5m, \"5 minutes\")\n",
    "print_analysis(df_1m, \"1 minute\")\n",
    "\n",
    "\n",
    "levels = get_intraday_sr_levels(eod_levels, df_d, [df_5m, df_15m], price, item_count=10)\n",
    "print_result(levels, price)\n"
   ]
  }
 ],
 "metadata": {
  "kernelspec": {
   "display_name": "Python 3.10.8 ('venv': venv)",
   "language": "python",
   "name": "python3"
  },
  "language_info": {
   "codemirror_mode": {
    "name": "ipython",
    "version": 3
   },
   "file_extension": ".py",
   "mimetype": "text/x-python",
   "name": "python",
   "nbconvert_exporter": "python",
   "pygments_lexer": "ipython3",
   "version": "3.10.8"
  },
  "orig_nbformat": 4,
  "vscode": {
   "interpreter": {
    "hash": "52f058016e79b0cb6f4bc1fb0cbaec4eb0fb60249ee39701686a66fe42631fb8"
   }
  }
 },
 "nbformat": 4,
 "nbformat_minor": 2
}
