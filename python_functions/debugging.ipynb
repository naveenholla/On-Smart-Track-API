{
 "cells": [
  {
   "cell_type": "code",
   "execution_count": 1,
   "metadata": {},
   "outputs": [],
   "source": [
    "import django_initializer"
   ]
  },
  {
   "cell_type": "code",
   "execution_count": 31,
   "metadata": {},
   "outputs": [],
   "source": [
    "from ontrack.market.api.logic.endofdata import EndOfDayData\n",
    "from ontrack.utils.datetime import DateTimeHelper as dt\n",
    "from ontrack.utils.base.enum import ExchangeType, SettingKeyType\n",
    "from ontrack.ta.utils._levels import get_eod_sr_levels, get_intraday_sr_levels\n",
    "from ontrack.ta.core import sanitize\n",
    "import ontrack.ta as ta\n",
    "from operator import itemgetter\n",
    "from ontrack.utils.numbers import NumberHelper as nh\n",
    "from IPython.display import display, Markdown\n",
    "\n",
    "import pandas as pd\n",
    "import yfinance as yf\n",
    "import matplotlib.dates as mpl_dates\n",
    "\n",
    "def get_stock_price(symbol, period=\"2y\", interval=\"1d\", start_date=None, end_date=None):\n",
    "  df = yf.download(tickers=symbol, interval=interval, period=period, start=start_date, end=end_date)\n",
    "  df['Date'] = pd.to_datetime(df.index)\n",
    "  df['Date'] = df['Date'].apply(mpl_dates.date2num)\n",
    "  df = df.loc[:,['Date', 'Open', 'High', 'Low', 'Close']]\n",
    "  return df"
   ]
  },
  {
   "cell_type": "code",
   "execution_count": 3,
   "metadata": {},
   "outputs": [],
   "source": [
    "import numpy as np\n",
    "from pandas import Timestamp\n",
    "import math\n",
    "from mplfinance.original_flavor import candlestick_ohlc\n",
    "import matplotlib.pyplot as plt"
   ]
  },
  {
   "cell_type": "code",
   "execution_count": 43,
   "metadata": {},
   "outputs": [
    {
     "name": "stdout",
     "output_type": "stream",
     "text": [
      "[*********************100%***********************]  1 of 1 completed\n",
      "[*********************100%***********************]  1 of 1 completed\n",
      "[*********************100%***********************]  1 of 1 completed\n",
      "[*********************100%***********************]  1 of 1 completed\n",
      "[*********************100%***********************]  1 of 1 completed\n"
     ]
    }
   ],
   "source": [
    "symbol = 'TCS.NS'\n",
    "#symbol = 'IDFCFIRSTB.NS'\n",
    "#symbol = '^NSEBANK'\n",
    "#symbol = \"^NSEI\"\n",
    "#symbol = \"MSFT\"\n",
    "df_y = get_stock_price(symbol, \"2y\", \"1d\")\n",
    "df_m = get_stock_price(symbol, \"2y\", \"1mo\")\n",
    "df_w = get_stock_price(symbol, \"2y\", \"1wk\")\n",
    "df_d = get_stock_price(symbol, \"1y\", \"1d\")\n",
    "df_h = get_stock_price(symbol, \"6mo\", \"1h\")\n",
    "\n",
    "df_y = sanitize(df_y)\n",
    "df_m = sanitize(df_m)\n",
    "df_w = sanitize(df_w)\n",
    "df_d = sanitize(df_d)\n",
    "df_h = sanitize(df_h)\n"
   ]
  },
  {
   "cell_type": "code",
   "execution_count": 44,
   "metadata": {},
   "outputs": [
    {
     "name": "stdout",
     "output_type": "stream",
     "text": [
      "[X] Ooops!!! It's True, the series 'quantity_per_trade' was not found in date, open, high, low, close, SMA_200, SMA_100, SMA_50, EMA_200, EMA_100, EMA_50, EMA_5, EMA_9, EMA_13, BBL_20_1.5, BBM_20_1.5, BBU_20_1.5, BBB_20_1.5, BBP_20_1.5, CPR_TC, CPR_PIVOT, CPR_BC, CPR_R3, CPR_R2, CPR_R1, CPR_S3, CPR_S2, CPR_S1, CPR, CDL_CONSOLIDATED\n",
      "[X] Ooops!!! It's True, the series 'volume' was not found in date, open, high, low, close, SMA_200, SMA_100, SMA_50, EMA_200, EMA_100, EMA_50, EMA_5, EMA_9, EMA_13, BBL_20_1.5, BBM_20_1.5, BBU_20_1.5, BBB_20_1.5, BBP_20_1.5, CPR_TC, CPR_PIVOT, CPR_BC, CPR_R3, CPR_R2, CPR_R1, CPR_S3, CPR_S2, CPR_S1, CPR, CDL_CONSOLIDATED\n",
      "[X] Ooops!!! It's True, the series 'delivery_percentage' was not found in date, open, high, low, close, SMA_200, SMA_100, SMA_50, EMA_200, EMA_100, EMA_50, EMA_5, EMA_9, EMA_13, BBL_20_1.5, BBM_20_1.5, BBU_20_1.5, BBB_20_1.5, BBP_20_1.5, CPR_TC, CPR_PIVOT, CPR_BC, CPR_R3, CPR_R2, CPR_R1, CPR_S3, CPR_S2, CPR_S1, CPR, CDL_CONSOLIDATED\n",
      "[X] Ooops!!! It's True, the series 'delivery_quantity' was not found in date, open, high, low, close, SMA_200, SMA_100, SMA_50, EMA_200, EMA_100, EMA_50, EMA_5, EMA_9, EMA_13, BBL_20_1.5, BBM_20_1.5, BBU_20_1.5, BBB_20_1.5, BBP_20_1.5, CPR_TC, CPR_PIVOT, CPR_BC, CPR_R3, CPR_R2, CPR_R1, CPR_S3, CPR_S2, CPR_S1, CPR, CDL_CONSOLIDATED\n"
     ]
    }
   ],
   "source": [
    "obj = EndOfDayData(ExchangeType.NSE)\n",
    "result= obj.populate_indicators(df_y)\n",
    "df = result[0]                \n",
    "row = df.ta.last_record\n",
    "eod_levels = get_eod_sr_levels(df, [df_m, df_w, df_h])"
   ]
  },
  {
   "cell_type": "code",
   "execution_count": 45,
   "metadata": {},
   "outputs": [],
   "source": [
    "def candle_stick(df):\n",
    "    strategy = ta.Strategy(\n",
    "        name=\"intraday\",\n",
    "        ta=[\n",
    "            {\n",
    "                \"kind\": \"cdl_pattern\",\n",
    "                \"name\": \"all\",\n",
    "                \"consolidated\": True,\n",
    "                \"append\": True,\n",
    "            }\n",
    "        ],\n",
    "    )\n",
    "    df.ta.cores = 0\n",
    "    df.ta.sanitize()\n",
    "    df.ta.strategy(strategy)\n",
    "\n",
    "    row = df.ta.second_last_record\n",
    "\n",
    "    cdl_rows = []\n",
    "    cdl_string = row[\"CDL_CONSOLIDATED\"].strip()\n",
    "    value_ = \"| \"\n",
    "    if cdl_string:\n",
    "        for cdl in cdl_string.split(\";\"):\n",
    "            cdl_rs = cdl.split(\"|\")\n",
    "            name = cdl_rs[0]\n",
    "            score = nh.str_to_float(cdl_rs[1])\n",
    "            sentiment = \"BULLISH\" if score > 0 else \"BEARISH\"\n",
    "            sentiment_html = f\"<b style='color:#FF0000'>BEARISH</b> {name} {score}\" if score < 0 else f\"<b style='color:#008000'>BULLISH</b>  {name} {score}\"\n",
    "\n",
    "            cdl_row = {}\n",
    "            cdl_row[\"rank\"] = 0\n",
    "            cdl_row[\"name\"] = name\n",
    "            cdl_row[\"sentiment\"] = sentiment\n",
    "            cdl_row[\"score\"] = score\n",
    "            cdl_rows.append(cdl_row)\n",
    "            \n",
    "            value_ = f\"{value_}{sentiment_html}| \"\n",
    "\n",
    "    cdl_rows = sorted(cdl_rows, key=itemgetter(\"rank\"), reverse=False)\n",
    "    return cdl_string, cdl_rows, value_\n",
    "\n",
    "def print_result(levels, price):\n",
    "    print(\"--------------------\")\n",
    "    records_below = [x for x in levels if x['is_below']]\n",
    "    records_above = [x for x in levels if not x['is_below']]\n",
    "    record = records_below[-3]\n",
    "    print(f\"Point: {record['point']}, Min: {record['min_point']}, Max: {record['max_point']}\")\n",
    "    print(f\"Types: {set(record['types'])}\")\n",
    "    print(\"--------------------\")\n",
    "    record = records_below[-2]\n",
    "    print(f\"Point: {record['point']}, Min: {record['min_point']}, Max: {record['max_point']}\")\n",
    "    print(f\"Types: {set(record['types'])}\")\n",
    "    print(\"--------------------\")\n",
    "    record = records_below[-1]\n",
    "    print(f\"Point: {record['point']}, Min: {record['min_point']}, Max: {record['max_point']}\")\n",
    "    print(f\"Types: {set(record['types'])}\")\n",
    "    print(\"--------------------\")\n",
    "    print(f\"Current Price: {price}\")\n",
    "    print(\"--------------------\")\n",
    "    record = records_above[0]\n",
    "    print(f\"Point: {record['point']}, Min: {record['min_point']}, Max: {record['max_point']}\")\n",
    "    print(f\"Types: {set(record['types'])}\")\n",
    "    print(\"--------------------\")\n",
    "    record = records_above[1]\n",
    "    print(f\"Point: {record['point']}, Min: {record['min_point']}, Max: {record['max_point']}\")\n",
    "    print(f\"Types: {set(record['types'])}\")\n",
    "    print(\"--------------------\")\n",
    "    record = records_above[2]\n",
    "    print(f\"Point: {record['point']}, Min: {record['min_point']}, Max: {record['max_point']}\")\n",
    "    print(f\"Types: {set(record['types'])}\")\n",
    "    print(\"--------------------\")\n",
    "    \n"
   ]
  },
  {
   "cell_type": "code",
   "execution_count": 46,
   "metadata": {},
   "outputs": [
    {
     "name": "stdout",
     "output_type": "stream",
     "text": [
      "[*********************100%***********************]  1 of 1 completed\n",
      "[*********************100%***********************]  1 of 1 completed\n",
      "[*********************100%***********************]  1 of 1 completed\n",
      "[*********************100%***********************]  1 of 1 completed\n",
      "[*********************100%***********************]  1 of 1 completed\n",
      "--------------------\n",
      "Point: 3333.0, Min: 3329.0, Max: 3333.0\n",
      "Types: {'SR_WSM', 'SR_FCP'}\n",
      "--------------------\n",
      "Point: 3339.8, Min: 3335.0, Max: 3339.8\n",
      "Types: {'SR_WSM', 'SR_FCP'}\n",
      "--------------------\n",
      "Point: 3340.0, Min: 3340.0, Max: 3344.7\n",
      "Types: {'P_D_O', 'CPR_TC', 'P_W_H', 'C_M_C', 'SR_WSM', 'C_D_C', 'CPR_PIVOT', 'SR_FCP', 'C_W_C', 'CPR_BC'}\n",
      "--------------------\n",
      "Current Price: 3343.449951171875\n",
      "--------------------\n",
      "Point: 3345.0, Min: 3345.0, Max: 3349.0\n",
      "Types: {'P_D_C', 'SR_WSM', 'SR_FCP'}\n",
      "--------------------\n",
      "Point: 3350.0, Min: 3350.0, Max: 3354.35\n",
      "Types: {'C_D_O', 'SR_WSM', 'SR_FCP'}\n",
      "--------------------\n",
      "Point: 3356.0, Min: 3356.0, Max: 3360.0\n",
      "Types: {'SR_WSM', 'P_D_H', 'SR_FCP'}\n",
      "--------------------\n"
     ]
    },
    {
     "data": {
      "text/markdown": [
       "**1 hour:** | "
      ],
      "text/plain": [
       "<IPython.core.display.Markdown object>"
      ]
     },
     "metadata": {},
     "output_type": "display_data"
    },
    {
     "data": {
      "text/markdown": [
       "**15 minutes:** | <b style='color:#FF0000'>BEARISH</b> CDL_BELTHOLD -100.0| "
      ],
      "text/plain": [
       "<IPython.core.display.Markdown object>"
      ]
     },
     "metadata": {},
     "output_type": "display_data"
    },
    {
     "data": {
      "text/markdown": [
       "**5 minutes:** | <b style='color:#FF0000'>BEARISH</b> CDL_BELTHOLD -100.0| <b style='color:#FF0000'>BEARISH</b> CDL_SEPARATINGLINES -100.0| "
      ],
      "text/plain": [
       "<IPython.core.display.Markdown object>"
      ]
     },
     "metadata": {},
     "output_type": "display_data"
    },
    {
     "data": {
      "text/markdown": [
       "**1 minute:** | <b style='color:#008000'>BULLISH</b>  CDL_PIERCING 100.0| "
      ],
      "text/plain": [
       "<IPython.core.display.Markdown object>"
      ]
     },
     "metadata": {},
     "output_type": "display_data"
    }
   ],
   "source": [
    "df_d = get_stock_price(symbol, \"3d\", \"1d\")\n",
    "df_h = get_stock_price(symbol, \"3d\", \"1h\")\n",
    "df_15m = get_stock_price(symbol, \"2d\", \"15m\")\n",
    "df_5m = get_stock_price(symbol, \"2d\", \"5m\")\n",
    "df_1m = get_stock_price(symbol, \"1d\", \"1m\")\n",
    "\n",
    "df_d = sanitize(df_d)\n",
    "df_h = sanitize(df_h)\n",
    "df_15m = sanitize(df_15m)\n",
    "df_5m = sanitize(df_5m)\n",
    "df_1m = sanitize(df_1m)\n",
    "\n",
    "price = df_15m.iloc[-1][\"close\"]\n",
    "levels = get_intraday_sr_levels(eod_levels, df_d, [df_5m, df_15m], price)\n",
    "print_result(levels, price)\n",
    "\n",
    "r = candle_stick(df_h)\n",
    "display(Markdown(f'**1 hour:** {r[2]}'))\n",
    "\n",
    "r = candle_stick(df_15m)\n",
    "display(Markdown(f'**15 minutes:** {r[2]}'))\n",
    "\n",
    "r = candle_stick(df_5m)\n",
    "display(Markdown(f'**5 minutes:** {r[2]}'))\n",
    "\n",
    "r = candle_stick(df_1m)\n",
    "display(Markdown(f'**1 minute:** {r[2]}'))\n"
   ]
  }
 ],
 "metadata": {
  "kernelspec": {
   "display_name": "Python 3.10.8 ('venv': venv)",
   "language": "python",
   "name": "python3"
  },
  "language_info": {
   "codemirror_mode": {
    "name": "ipython",
    "version": 3
   },
   "file_extension": ".py",
   "mimetype": "text/x-python",
   "name": "python",
   "nbconvert_exporter": "python",
   "pygments_lexer": "ipython3",
   "version": "3.10.8"
  },
  "orig_nbformat": 4,
  "vscode": {
   "interpreter": {
    "hash": "52f058016e79b0cb6f4bc1fb0cbaec4eb0fb60249ee39701686a66fe42631fb8"
   }
  }
 },
 "nbformat": 4,
 "nbformat_minor": 2
}
